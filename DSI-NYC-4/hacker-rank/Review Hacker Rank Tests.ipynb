{
 "cells": [
  {
   "cell_type": "code",
   "execution_count": null,
   "metadata": {
    "collapsed": true
   },
   "outputs": [],
   "source": []
  },
  {
   "cell_type": "code",
   "execution_count": null,
   "metadata": {
    "collapsed": false
   },
   "outputs": [],
   "source": [
    "#Find the second largest number\n",
    "\n",
    "n = int(raw_input())\n",
    "arr=map(int, raw_input().split())\n",
    "biggestNumber = max(arr)\n",
    "while biggestNumber in arr:\n",
    "    arr.remove(biggestNUmber)\n",
    "print(max(arr))    "
   ]
  },
  {
   "cell_type": "code",
   "execution_count": null,
   "metadata": {
    "collapsed": true
   },
   "outputs": [],
   "source": [
    "N = int(raw_input())\n",
    "l =[]\n",
    "for i in range(N):\n",
    "    splitInput = raw_input().split('') #test to see what the o\n",
    "    if splitInput[0] ==\n",
    "    print([splitInput])"
   ]
  },
  {
   "cell_type": "code",
   "execution_count": null,
   "metadata": {
    "collapsed": true
   },
   "outputs": [],
   "source": [
    "if __name__ == '__main__':\n",
    "    l = []\n",
    "\n",
    "    for _ in range(int(raw_input())):\n",
    "        name = raw_input()\n",
    "        score = float(raw_input())\n",
    "        l.append([name, score])\n",
    "\n",
    "    l.sort()\n",
    "\n",
    "    grades = set([line[1] for line in l])\n",
    "    grades.remove(min(grades))\n",
    "\n",
    "    mini = min(grades)\n",
    "\n",
    "    for i in xrange(len(l)):\n",
    "        if l[i][1] == mini:\n",
    "            print l[i][0]"
   ]
  },
  {
   "cell_type": "raw",
   "metadata": {},
   "source": [
    "if __name__ == '__main__':\n",
    "    l = []\n",
    "\n",
    "    for _ in range(int(raw_input())):\n",
    "        name = raw_input()\n",
    "        score = float(raw_input())\n",
    "        l.append([name, score])\n",
    "\n",
    "    l.sort()\n",
    "\n",
    "    grades = set([line[1] for line in l])\n",
    "    grades.remove(min(grades))\n",
    "\n",
    "    mini = min(grades)\n",
    "\n",
    "    for i in xrange(len(l)):\n",
    "        if l[i][1] == mini:\n",
    "            print l[i][0]"
   ]
  },
  {
   "cell_type": "code",
   "execution_count": 4,
   "metadata": {
    "collapsed": false
   },
   "outputs": [
    {
     "ename": "SyntaxError",
     "evalue": "invalid syntax (<ipython-input-4-bfecf32c14e9>, line 3)",
     "output_type": "error",
     "traceback": [
      "\u001b[0;36m  File \u001b[0;32m\"<ipython-input-4-bfecf32c14e9>\"\u001b[0;36m, line \u001b[0;32m3\u001b[0m\n\u001b[0;31m    y\u001b[0m\n\u001b[0m    ^\u001b[0m\n\u001b[0;31mSyntaxError\u001b[0m\u001b[0;31m:\u001b[0m invalid syntax\n"
     ]
    }
   ],
   "source": [
    "x = range(1,1000)\n",
    "y = xrange(int(x)\n",
    "\n",
    "           \n"
   ]
  },
  {
   "cell_type": "code",
   "execution_count": 7,
   "metadata": {
    "collapsed": false
   },
   "outputs": [
    {
     "data": {
      "text/plain": [
       "{2, 3, 4, 5, 6, 7, 8}"
      ]
     },
     "execution_count": 7,
     "metadata": {},
     "output_type": "execute_result"
    }
   ],
   "source": [
    "lll= [2,3,4,5,6,5,4,3,2,4,6,5,6,7,8,8]\n",
    "\n",
    "xx= set(lll)\n",
    "\n",
    "xx"
   ]
  },
  {
   "cell_type": "code",
   "execution_count": null,
   "metadata": {
    "collapsed": false
   },
   "outputs": [],
   "source": [
    "students = [['Harry', 37.21], ['Berry', 37.21], ['Tina', 37.2], ['Akriti', 41], ['Harsh', 39]]\n",
    "\n",
    "l = []\n",
    "\n",
    "for _ in range(int(raw_input())):\n",
    "    name = raw_input()\n",
    "    score = float(raw_input())\n",
    "    l.append([name, score])\n",
    "\n",
    "l.sort()\n",
    "\n",
    "grades = set([line[1] for line in l])\n",
    "grades.remove(min(grades)) \n",
    "\n",
    "mini = min(grades)\n",
    "\n",
    "for i in xrange(len(l)):\n",
    "        if l[i][1] == mini:\n",
    "            print l[i][0]"
   ]
  },
  {
   "cell_type": "code",
   "execution_count": 4,
   "metadata": {
    "collapsed": false
   },
   "outputs": [
    {
     "name": "stdout",
     "output_type": "stream",
     "text": [
      "[['44', 55.0], ['55', 66.0], ['66', 77.0], ['77', 8.0], ['88', 99.0]]\n"
     ]
    }
   ],
   "source": [
    "l.sort()\n",
    "\n",
    "print(l)"
   ]
  },
  {
   "cell_type": "code",
   "execution_count": 6,
   "metadata": {
    "collapsed": false
   },
   "outputs": [],
   "source": [
    "grades = set([line[1] for line in l])\n",
    "grades.remove(min(grades))"
   ]
  },
  {
   "cell_type": "code",
   "execution_count": 8,
   "metadata": {
    "collapsed": false
   },
   "outputs": [
    {
     "name": "stdout",
     "output_type": "stream",
     "text": [
      "('Stuart', 5)\n",
      "('Stuart', 10)\n",
      "('Stuart', 15)\n",
      "('Stuart', 20)\n",
      "('Stuart', 25)\n",
      "('Stuart', 30)\n"
     ]
    },
    {
     "ename": "NameError",
     "evalue": "name 'Stuart' is not defined",
     "output_type": "error",
     "traceback": [
      "\u001b[0;31m---------------------------------------------------------------------------\u001b[0m",
      "\u001b[0;31mNameError\u001b[0m                                 Traceback (most recent call last)",
      "\u001b[0;32m<ipython-input-8-971c17fcc64e>\u001b[0m in \u001b[0;36m<module>\u001b[0;34m()\u001b[0m\n\u001b[1;32m     16\u001b[0m \u001b[0;34m\u001b[0m\u001b[0m\n\u001b[1;32m     17\u001b[0m \u001b[0mminion_game\u001b[0m\u001b[0;34m(\u001b[0m\u001b[0;34m\"Banana\"\u001b[0m\u001b[0;34m)\u001b[0m\u001b[0;34m\u001b[0m\u001b[0m\n\u001b[0;32m---> 18\u001b[0;31m \u001b[0;32mprint\u001b[0m\u001b[0;34m(\u001b[0m\u001b[0mStuart\u001b[0m\u001b[0;34m)\u001b[0m\u001b[0;34m\u001b[0m\u001b[0m\n\u001b[0m",
      "\u001b[0;31mNameError\u001b[0m: name 'Stuart' is not defined"
     ]
    }
   ],
   "source": [
    "def minion_game(string):\n",
    "    kevin = 0\n",
    "    stuart = 0\n",
    "    vowels = \"aeiou\"\n",
    "    for i, letter in enumerate(string):\n",
    "        if letter in string:\n",
    "            stuart += len(string) - 1\n",
    "        elif letter not in vowels:\n",
    "            kevin += len(string) -1\n",
    "        if kevin > stuart:\n",
    "            print(\"Kevin\", kevin)\n",
    "        elif stuart > kevin:\n",
    "            print(\"Stuart\", stuart)\n",
    "        else:\n",
    "            print(\"it was a draw\")\n",
    "            \n",
    "minion_game(\"Banana\")   \n",
    "print(Stuart)"
   ]
  },
  {
   "cell_type": "code",
   "execution_count": 9,
   "metadata": {
    "collapsed": false
   },
   "outputs": [
    {
     "name": "stdout",
     "output_type": "stream",
     "text": [
      "4\n",
      "1\n",
      "22\n",
      "333\n"
     ]
    }
   ],
   "source": [
    "#You are given a positive integer . Print a numerical triangle of height  like the one below:\n",
    "\n",
    "\n",
    "#Can you do it using only arithmetic operations, a single for loop and print statement?\n",
    "\n",
    "#Use no more than two lines. The first line (the for statement) is already written for you. You have to complete the print statement.\n",
    "\n",
    "\n",
    "\n",
    "for i in range(1,input()): #More than 2 lines will result in 0 score. Do not leave a blank line also\n",
    "    print(i*(10**(i)//9))\n"
   ]
  },
  {
   "cell_type": "code",
   "execution_count": 10,
   "metadata": {
    "collapsed": false
   },
   "outputs": [
    {
     "data": {
      "text/plain": [
       "22"
      ]
     },
     "execution_count": 10,
     "metadata": {},
     "output_type": "execute_result"
    }
   ],
   "source": [
    "2*(10**2)//9"
   ]
  },
  {
   "cell_type": "code",
   "execution_count": 15,
   "metadata": {
    "collapsed": false
   },
   "outputs": [
    {
     "ename": "SyntaxError",
     "evalue": "invalid syntax (<ipython-input-15-43544c359bd7>, line 2)",
     "output_type": "error",
     "traceback": [
      "\u001b[0;36m  File \u001b[0;32m\"<ipython-input-15-43544c359bd7>\"\u001b[0;36m, line \u001b[0;32m2\u001b[0m\n\u001b[0;31m    returnString: \"\"\u001b[0m\n\u001b[0m                ^\u001b[0m\n\u001b[0;31mSyntaxError\u001b[0m\u001b[0;31m:\u001b[0m invalid syntax\n"
     ]
    }
   ],
   "source": [
    "def capitalize(string):\n",
    "    returnString: \"\"\n",
    "    for word in string.split(' '):\n",
    "        returnString += word.capitalize()\n",
    "    return empty "
   ]
  },
  {
   "cell_type": "code",
   "execution_count": null,
   "metadata": {
    "collapsed": true
   },
   "outputs": [],
   "source": []
  }
 ],
 "metadata": {
  "anaconda-cloud": {},
  "kernelspec": {
   "display_name": "Python [default]",
   "language": "python",
   "name": "python2"
  },
  "language_info": {
   "codemirror_mode": {
    "name": "ipython",
    "version": 2
   },
   "file_extension": ".py",
   "mimetype": "text/x-python",
   "name": "python",
   "nbconvert_exporter": "python",
   "pygments_lexer": "ipython2",
   "version": "2.7.12"
  }
 },
 "nbformat": 4,
 "nbformat_minor": 1
}
