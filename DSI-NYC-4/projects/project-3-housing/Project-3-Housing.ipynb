{
 "cells": [
  {
   "cell_type": "code",
   "execution_count": 4,
   "metadata": {
    "collapsed": true
   },
   "outputs": [],
   "source": [
    "from __future__ import division\n",
    "\n",
    "import pandas as pd\n",
    "import numpy as np\n",
    "import matplotlib.pyplot as plt\n",
    "import seaborn as sns\n",
    "import scipy.stats as stats\n",
    "\n",
    "%matplotlib inline\n",
    "\n",
    "\n",
    "import pandas as pd\n",
    "import statsmodels.api as sm\n",
    "from statsmodels.formula.api import ols"
   ]
  },
  {
   "cell_type": "markdown",
   "metadata": {},
   "source": [
    "# DATA CLEANING"
   ]
  },
  {
   "cell_type": "code",
   "execution_count": 5,
   "metadata": {
    "collapsed": false
   },
   "outputs": [],
   "source": [
    "ames = pd.read_csv(\"train.csv\")\n"
   ]
  },
  {
   "cell_type": "markdown",
   "metadata": {},
   "source": [
    "Dropping Columns irrelvant to question presented\n",
    "\n"
   ]
  },
  {
   "cell_type": "code",
   "execution_count": 6,
   "metadata": {
    "collapsed": false
   },
   "outputs": [],
   "source": [
    "df = ames[[u'Id', u'LotArea', u'Utilities', u'Neighborhood', u'BldgType',\n",
    "       u'HouseStyle', u'OverallQual', u'OverallCond', u'YearBuilt',\n",
    "       u'YearRemodAdd', u'RoofStyle', u'RoofMatl', u'GrLivArea', u'FullBath',\n",
    "       u'HalfBath', u'BedroomAbvGr', u'KitchenAbvGr', u'MoSold', u'YrSold',\n",
    "       u'SalePrice']]"
   ]
  },
  {
   "cell_type": "code",
   "execution_count": 7,
   "metadata": {
    "collapsed": false
   },
   "outputs": [
    {
     "data": {
      "text/html": [
       "<div>\n",
       "<table border=\"1\" class=\"dataframe\">\n",
       "  <thead>\n",
       "    <tr style=\"text-align: right;\">\n",
       "      <th></th>\n",
       "      <th>Id</th>\n",
       "      <th>Lot</th>\n",
       "      <th>Util</th>\n",
       "      <th>Hood</th>\n",
       "      <th>BldgType</th>\n",
       "      <th>Style</th>\n",
       "      <th>Quality</th>\n",
       "      <th>Condition</th>\n",
       "      <th>YearBuilt</th>\n",
       "      <th>YearRemod</th>\n",
       "      <th>RoofStyle</th>\n",
       "      <th>RoofMatl</th>\n",
       "      <th>AbvGroundLiv</th>\n",
       "      <th>FullBath</th>\n",
       "      <th>HalfBath</th>\n",
       "      <th>BedroomAbvGr</th>\n",
       "      <th>KitchenAbvGr</th>\n",
       "      <th>MonthSold</th>\n",
       "      <th>YearSold</th>\n",
       "      <th>SalePrice</th>\n",
       "    </tr>\n",
       "  </thead>\n",
       "  <tbody>\n",
       "    <tr>\n",
       "      <th>0</th>\n",
       "      <td>1</td>\n",
       "      <td>8450</td>\n",
       "      <td>AllPub</td>\n",
       "      <td>CollgCr</td>\n",
       "      <td>1Fam</td>\n",
       "      <td>2Story</td>\n",
       "      <td>7</td>\n",
       "      <td>5</td>\n",
       "      <td>2003</td>\n",
       "      <td>2003</td>\n",
       "      <td>Gable</td>\n",
       "      <td>CompShg</td>\n",
       "      <td>1710</td>\n",
       "      <td>2</td>\n",
       "      <td>1</td>\n",
       "      <td>3</td>\n",
       "      <td>1</td>\n",
       "      <td>2</td>\n",
       "      <td>2008</td>\n",
       "      <td>208500</td>\n",
       "    </tr>\n",
       "    <tr>\n",
       "      <th>1</th>\n",
       "      <td>2</td>\n",
       "      <td>9600</td>\n",
       "      <td>AllPub</td>\n",
       "      <td>Veenker</td>\n",
       "      <td>1Fam</td>\n",
       "      <td>1Story</td>\n",
       "      <td>6</td>\n",
       "      <td>8</td>\n",
       "      <td>1976</td>\n",
       "      <td>1976</td>\n",
       "      <td>Gable</td>\n",
       "      <td>CompShg</td>\n",
       "      <td>1262</td>\n",
       "      <td>2</td>\n",
       "      <td>0</td>\n",
       "      <td>3</td>\n",
       "      <td>1</td>\n",
       "      <td>5</td>\n",
       "      <td>2007</td>\n",
       "      <td>181500</td>\n",
       "    </tr>\n",
       "    <tr>\n",
       "      <th>2</th>\n",
       "      <td>3</td>\n",
       "      <td>11250</td>\n",
       "      <td>AllPub</td>\n",
       "      <td>CollgCr</td>\n",
       "      <td>1Fam</td>\n",
       "      <td>2Story</td>\n",
       "      <td>7</td>\n",
       "      <td>5</td>\n",
       "      <td>2001</td>\n",
       "      <td>2002</td>\n",
       "      <td>Gable</td>\n",
       "      <td>CompShg</td>\n",
       "      <td>1786</td>\n",
       "      <td>2</td>\n",
       "      <td>1</td>\n",
       "      <td>3</td>\n",
       "      <td>1</td>\n",
       "      <td>9</td>\n",
       "      <td>2008</td>\n",
       "      <td>223500</td>\n",
       "    </tr>\n",
       "    <tr>\n",
       "      <th>3</th>\n",
       "      <td>4</td>\n",
       "      <td>9550</td>\n",
       "      <td>AllPub</td>\n",
       "      <td>Crawfor</td>\n",
       "      <td>1Fam</td>\n",
       "      <td>2Story</td>\n",
       "      <td>7</td>\n",
       "      <td>5</td>\n",
       "      <td>1915</td>\n",
       "      <td>1970</td>\n",
       "      <td>Gable</td>\n",
       "      <td>CompShg</td>\n",
       "      <td>1717</td>\n",
       "      <td>1</td>\n",
       "      <td>0</td>\n",
       "      <td>3</td>\n",
       "      <td>1</td>\n",
       "      <td>2</td>\n",
       "      <td>2006</td>\n",
       "      <td>140000</td>\n",
       "    </tr>\n",
       "  </tbody>\n",
       "</table>\n",
       "</div>"
      ],
      "text/plain": [
       "   Id    Lot    Util     Hood BldgType   Style  Quality  Condition  YearBuilt  \\\n",
       "0   1   8450  AllPub  CollgCr     1Fam  2Story        7          5       2003   \n",
       "1   2   9600  AllPub  Veenker     1Fam  1Story        6          8       1976   \n",
       "2   3  11250  AllPub  CollgCr     1Fam  2Story        7          5       2001   \n",
       "3   4   9550  AllPub  Crawfor     1Fam  2Story        7          5       1915   \n",
       "\n",
       "   YearRemod RoofStyle RoofMatl  AbvGroundLiv  FullBath  HalfBath  \\\n",
       "0       2003     Gable  CompShg          1710         2         1   \n",
       "1       1976     Gable  CompShg          1262         2         0   \n",
       "2       2002     Gable  CompShg          1786         2         1   \n",
       "3       1970     Gable  CompShg          1717         1         0   \n",
       "\n",
       "   BedroomAbvGr  KitchenAbvGr  MonthSold  YearSold  SalePrice  \n",
       "0             3             1          2      2008     208500  \n",
       "1             3             1          5      2007     181500  \n",
       "2             3             1          9      2008     223500  \n",
       "3             3             1          2      2006     140000  "
      ]
     },
     "execution_count": 7,
     "metadata": {},
     "output_type": "execute_result"
    }
   ],
   "source": [
    "# Rename Columns\n",
    "df = df.rename(columns= {'LotArea':'Lot', 'Utilities':'Util','Neighborhood':'Hood',\\\n",
    "                    'HouseStyle':'Style','OverallQual':'Quality','OverallCond':'Condition',\\\n",
    "                    'YearRemodAdd':'YearRemod',\\\n",
    "                    'GrLivArea':'AbvGroundLiv','MoSold':'MonthSold','YrSold':'YearSold'})\n",
    "\n",
    "df.head(4)"
   ]
  },
  {
   "cell_type": "markdown",
   "metadata": {},
   "source": [
    "## Locating Missing Values: None Detected"
   ]
  },
  {
   "cell_type": "code",
   "execution_count": 8,
   "metadata": {
    "collapsed": false
   },
   "outputs": [
    {
     "data": {
      "text/plain": [
       "Id              0\n",
       "Lot             0\n",
       "Util            0\n",
       "Hood            0\n",
       "BldgType        0\n",
       "Style           0\n",
       "Quality         0\n",
       "Condition       0\n",
       "YearBuilt       0\n",
       "YearRemod       0\n",
       "RoofStyle       0\n",
       "RoofMatl        0\n",
       "AbvGroundLiv    0\n",
       "FullBath        0\n",
       "HalfBath        0\n",
       "BedroomAbvGr    0\n",
       "KitchenAbvGr    0\n",
       "MonthSold       0\n",
       "YearSold        0\n",
       "SalePrice       0\n",
       "dtype: int64"
      ]
     },
     "execution_count": 8,
     "metadata": {},
     "output_type": "execute_result"
    }
   ],
   "source": [
    "df.isnull().sum()"
   ]
  },
  {
   "cell_type": "markdown",
   "metadata": {},
   "source": [
    "### CREATING NEW VARIABLES"
   ]
  },
  {
   "cell_type": "code",
   "execution_count": 10,
   "metadata": {
    "collapsed": false
   },
   "outputs": [
    {
     "data": {
      "text/plain": [
       "array(['CollgCr', 'Veenker', 'Crawfor', 'NoRidge', 'Mitchel', 'Somerst',\n",
       "       'NWAmes', 'OldTown', 'BrkSide', 'Sawyer', 'NridgHt', 'NAmes',\n",
       "       'SawyerW', 'IDOTRR', 'MeadowV', 'Edwards', 'Timber', 'Gilbert',\n",
       "       'StoneBr', 'ClearCr', 'NPkVill', 'Blmngtn', 'BrDale', 'SWISU',\n",
       "       'Blueste'], dtype=object)"
      ]
     },
     "execution_count": 10,
     "metadata": {},
     "output_type": "execute_result"
    }
   ],
   "source": [
    "df['Hood'].unique()"
   ]
  },
  {
   "cell_type": "code",
   "execution_count": 12,
   "metadata": {
    "collapsed": false
   },
   "outputs": [
    {
     "data": {
      "text/plain": [
       "array(['CollgCr', 'Veenker', 'Crawfor', 'NoRidge', 'Mitchel', 'Somerst',\n",
       "       'NWAmes', 'OldTown', 'BrkSide', 'Sawyer', 'NridgHt', 'NAmes',\n",
       "       'SawyerW', 'IDOTRR', 'MeadowV', 'Edwards', 'Timber', 'Gilbert',\n",
       "       'StoneBr', 'ClearCr', 'NPkVill', 'Blmngtn', 'BrDale', 'SWISU',\n",
       "       'Blueste'], dtype=object)"
      ]
     },
     "execution_count": 12,
     "metadata": {},
     "output_type": "execute_result"
    }
   ],
   "source": [
    "#Create neighborhood map\n",
    "#NOrth ; NoRidge, Veenker, sommerset,'NridgHt', 'NAmes', \\\n",
    "  #...'Gilbert','StoneBr', 'ClearCr', 'Blmngtn', 'BrDale'\n",
    "# East:  'Crawfor' 'OldTown' 'BrkSide' , 'IDOTRR', 'Timber'\n",
    "#West: NWAmes, 'Sawyer', 'SawyerW, 'Edwards', 'NPkVill', 'Blueste'\n",
    "#South: Mitchell, 'MeadowV'\n",
    "#Center: 'SWISU'\n",
    "df[\"Hood\"].unique()\n",
    "\n",
    "# North  = df[(df['Hood'] == 'NoRidge') | (df['Hood'] == 'Veenker') |(df['Hood'] == 'Somerst')| (df['Hood'] == 'NridgHt') | (df['Hood'] == 'NAmes')\\\n",
    "# (df['Hood'] == 'Gilbert') | (df['Hood'] == 'StoneBr' ) |(df['Hood'] == 'ClearCr')|(df['Hood'] == 'Blmngtn' ) |(df['Hood'] =='BrDale')]\n",
    "\n",
    "# East = df[(df['Hood'] == 'Crawfor') | (df['Hood'] == 'OldTown' ) |(df['Hood'] == 'BrkSide')| (df['Hood'] == 'IDOTRR') | (df['Hood'] == 'Timber')]  \n",
    "\n",
    "# West = df[(df['Hood'] == 'NWAmes') | (df['Hood'] == 'Sawyer' ) |(df['Hood'] == 'SawyerW')| (df['Hood'] == 'Edwards') | (df['Hood'] == 'NPkVill')|(df['Hood'] == 'Blueste')]\n",
    "\n",
    "# South = df[(df['Hood'] == 'Mitchell') | (df['Hood'] == 'MeadowV' )]\n",
    "\n",
    "# Center = df[(df['Hood'] == 'SWISU')] "
   ]
  },
  {
   "cell_type": "code",
   "execution_count": 13,
   "metadata": {
    "collapsed": false
   },
   "outputs": [],
   "source": [
    "df['Center'] = np.where(df['Hood'] == 'SWISU', 'yes', 'no')"
   ]
  },
  {
   "cell_type": "code",
   "execution_count": 14,
   "metadata": {
    "collapsed": false
   },
   "outputs": [],
   "source": [
    "df['North']= np.where((df['Hood'] == 'Crawfor') | (df['Hood'] == 'OldTown' ) |(df['Hood'] == 'BrkSide')| (df['Hood'] == 'IDOTRR') | (df['Hood'] == 'Timber'), 'yes','no')  \n",
    "\n"
   ]
  },
  {
   "cell_type": "code",
   "execution_count": 15,
   "metadata": {
    "collapsed": false
   },
   "outputs": [],
   "source": [
    "df['East'] = np.where((df['Hood'] == 'Crawfor') | (df['Hood'] == 'OldTown' ) |(df['Hood'] == 'BrkSide')| (df['Hood'] == 'IDOTRR') | (df['Hood'] == 'Timber'), 'yes', 'no')  \n"
   ]
  },
  {
   "cell_type": "code",
   "execution_count": 16,
   "metadata": {
    "collapsed": true
   },
   "outputs": [],
   "source": [
    "df['West'] = np.where((df['Hood'] == 'NWAmes') | (df['Hood'] == 'Sawyer' ) |(df['Hood'] == 'SawyerW')| (df['Hood'] == 'Edwards') | (df['Hood'] == 'NPkVill')|(df['Hood'] == 'Blueste'), 'yes','no')\n",
    "\n"
   ]
  },
  {
   "cell_type": "code",
   "execution_count": 17,
   "metadata": {
    "collapsed": true
   },
   "outputs": [],
   "source": [
    "df['South'] = np.where((df['Hood'] == 'Mitchell') | (df['Hood'] == 'MeadowV' ), 'yes', 'no')"
   ]
  },
  {
   "cell_type": "code",
   "execution_count": 18,
   "metadata": {
    "collapsed": false
   },
   "outputs": [],
   "source": [
    "df['NoRidge'] = np.where((df['Hood'] == 'NoRidge'), 'yes', 'no')\n",
    "\n",
    "df['Edwards'] = np.where((df['Hood'] == 'Edwards'),'yes', 'no')"
   ]
  },
  {
   "cell_type": "code",
   "execution_count": 19,
   "metadata": {
    "collapsed": false
   },
   "outputs": [],
   "source": [
    "###Concating DUMMy NEW VARIABLES\n",
    "\n",
    "#df = pd.concat(df, [df[['North']], df[['South']], df[['East']], df[['West']],df[['Center']]], axis=1)\n",
    "#df = pd.concat(df, pd.get_dummies([df['North'], df['South'], df['East'], df['West'],df['Center']], axis=1)\n",
    "\n",
    "\n",
    "# areas = ['North', 'South', 'East', 'West', 'Center', 'NoRidge', 'Edwards']\n",
    "\n",
    "# for area in areas:\n",
    "#     df = pd.concat([df, pd.get_dummies(df[[area]], drop_first=True)], axis=1)\n",
    "\n",
    "\n",
    "# df = pd.concat([df, pd.get_dummies(df[['North']], drop_first=True)], axis=1)\n",
    "# df = pd.concat([df, pd.get_dummies(df[['South']], drop_first=True)], axis=1)\n",
    "# df = pd.concat([df, pd.get_dummies(df[['East']], drop_first=True )], axis=1)\n",
    "# df = pd.concat([df, pd.get_dummies(df[['West']], drop_first=True)], axis=1)\n",
    "# df = pd.concat([df, pd.get_dummies(df[['Center']], drop_first=True)], axis=1)\n",
    "# df = pd.concat([df, pd.get_dummies(df[['NoRidge']], drop_first=True)], axis=1)\n",
    "# df = pd.concat([df, pd.get_dummies(df[['Edwards']], drop_first=True)], axis=1)\n",
    "\n",
    "\n",
    "\n",
    "\n",
    "\n"
   ]
  },
  {
   "cell_type": "code",
   "execution_count": 20,
   "metadata": {
    "collapsed": false
   },
   "outputs": [
    {
     "data": {
      "text/html": [
       "<div>\n",
       "<table border=\"1\" class=\"dataframe\">\n",
       "  <thead>\n",
       "    <tr style=\"text-align: right;\">\n",
       "      <th></th>\n",
       "      <th>Id</th>\n",
       "      <th>Lot</th>\n",
       "      <th>Util</th>\n",
       "      <th>Hood</th>\n",
       "      <th>BldgType</th>\n",
       "      <th>Style</th>\n",
       "      <th>Quality</th>\n",
       "      <th>Condition</th>\n",
       "      <th>YearBuilt</th>\n",
       "      <th>YearRemod</th>\n",
       "      <th>...</th>\n",
       "      <th>MonthSold</th>\n",
       "      <th>YearSold</th>\n",
       "      <th>SalePrice</th>\n",
       "      <th>Center</th>\n",
       "      <th>North</th>\n",
       "      <th>East</th>\n",
       "      <th>West</th>\n",
       "      <th>South</th>\n",
       "      <th>NoRidge</th>\n",
       "      <th>Edwards</th>\n",
       "    </tr>\n",
       "  </thead>\n",
       "  <tbody>\n",
       "    <tr>\n",
       "      <th>0</th>\n",
       "      <td>1</td>\n",
       "      <td>8450</td>\n",
       "      <td>AllPub</td>\n",
       "      <td>CollgCr</td>\n",
       "      <td>1Fam</td>\n",
       "      <td>2Story</td>\n",
       "      <td>7</td>\n",
       "      <td>5</td>\n",
       "      <td>2003</td>\n",
       "      <td>2003</td>\n",
       "      <td>...</td>\n",
       "      <td>2</td>\n",
       "      <td>2008</td>\n",
       "      <td>208500</td>\n",
       "      <td>no</td>\n",
       "      <td>no</td>\n",
       "      <td>no</td>\n",
       "      <td>no</td>\n",
       "      <td>no</td>\n",
       "      <td>no</td>\n",
       "      <td>no</td>\n",
       "    </tr>\n",
       "    <tr>\n",
       "      <th>1</th>\n",
       "      <td>2</td>\n",
       "      <td>9600</td>\n",
       "      <td>AllPub</td>\n",
       "      <td>Veenker</td>\n",
       "      <td>1Fam</td>\n",
       "      <td>1Story</td>\n",
       "      <td>6</td>\n",
       "      <td>8</td>\n",
       "      <td>1976</td>\n",
       "      <td>1976</td>\n",
       "      <td>...</td>\n",
       "      <td>5</td>\n",
       "      <td>2007</td>\n",
       "      <td>181500</td>\n",
       "      <td>no</td>\n",
       "      <td>no</td>\n",
       "      <td>no</td>\n",
       "      <td>no</td>\n",
       "      <td>no</td>\n",
       "      <td>no</td>\n",
       "      <td>no</td>\n",
       "    </tr>\n",
       "    <tr>\n",
       "      <th>2</th>\n",
       "      <td>3</td>\n",
       "      <td>11250</td>\n",
       "      <td>AllPub</td>\n",
       "      <td>CollgCr</td>\n",
       "      <td>1Fam</td>\n",
       "      <td>2Story</td>\n",
       "      <td>7</td>\n",
       "      <td>5</td>\n",
       "      <td>2001</td>\n",
       "      <td>2002</td>\n",
       "      <td>...</td>\n",
       "      <td>9</td>\n",
       "      <td>2008</td>\n",
       "      <td>223500</td>\n",
       "      <td>no</td>\n",
       "      <td>no</td>\n",
       "      <td>no</td>\n",
       "      <td>no</td>\n",
       "      <td>no</td>\n",
       "      <td>no</td>\n",
       "      <td>no</td>\n",
       "    </tr>\n",
       "    <tr>\n",
       "      <th>3</th>\n",
       "      <td>4</td>\n",
       "      <td>9550</td>\n",
       "      <td>AllPub</td>\n",
       "      <td>Crawfor</td>\n",
       "      <td>1Fam</td>\n",
       "      <td>2Story</td>\n",
       "      <td>7</td>\n",
       "      <td>5</td>\n",
       "      <td>1915</td>\n",
       "      <td>1970</td>\n",
       "      <td>...</td>\n",
       "      <td>2</td>\n",
       "      <td>2006</td>\n",
       "      <td>140000</td>\n",
       "      <td>no</td>\n",
       "      <td>yes</td>\n",
       "      <td>yes</td>\n",
       "      <td>no</td>\n",
       "      <td>no</td>\n",
       "      <td>no</td>\n",
       "      <td>no</td>\n",
       "    </tr>\n",
       "    <tr>\n",
       "      <th>4</th>\n",
       "      <td>5</td>\n",
       "      <td>14260</td>\n",
       "      <td>AllPub</td>\n",
       "      <td>NoRidge</td>\n",
       "      <td>1Fam</td>\n",
       "      <td>2Story</td>\n",
       "      <td>8</td>\n",
       "      <td>5</td>\n",
       "      <td>2000</td>\n",
       "      <td>2000</td>\n",
       "      <td>...</td>\n",
       "      <td>12</td>\n",
       "      <td>2008</td>\n",
       "      <td>250000</td>\n",
       "      <td>no</td>\n",
       "      <td>no</td>\n",
       "      <td>no</td>\n",
       "      <td>no</td>\n",
       "      <td>no</td>\n",
       "      <td>yes</td>\n",
       "      <td>no</td>\n",
       "    </tr>\n",
       "  </tbody>\n",
       "</table>\n",
       "<p>5 rows × 27 columns</p>\n",
       "</div>"
      ],
      "text/plain": [
       "   Id    Lot    Util     Hood BldgType   Style  Quality  Condition  YearBuilt  \\\n",
       "0   1   8450  AllPub  CollgCr     1Fam  2Story        7          5       2003   \n",
       "1   2   9600  AllPub  Veenker     1Fam  1Story        6          8       1976   \n",
       "2   3  11250  AllPub  CollgCr     1Fam  2Story        7          5       2001   \n",
       "3   4   9550  AllPub  Crawfor     1Fam  2Story        7          5       1915   \n",
       "4   5  14260  AllPub  NoRidge     1Fam  2Story        8          5       2000   \n",
       "\n",
       "   YearRemod   ...    MonthSold YearSold  SalePrice  Center  North  East  \\\n",
       "0       2003   ...            2     2008     208500      no     no    no   \n",
       "1       1976   ...            5     2007     181500      no     no    no   \n",
       "2       2002   ...            9     2008     223500      no     no    no   \n",
       "3       1970   ...            2     2006     140000      no    yes   yes   \n",
       "4       2000   ...           12     2008     250000      no     no    no   \n",
       "\n",
       "   West  South  NoRidge  Edwards  \n",
       "0    no     no       no       no  \n",
       "1    no     no       no       no  \n",
       "2    no     no       no       no  \n",
       "3    no     no       no       no  \n",
       "4    no     no      yes       no  \n",
       "\n",
       "[5 rows x 27 columns]"
      ]
     },
     "execution_count": 20,
     "metadata": {},
     "output_type": "execute_result"
    }
   ],
   "source": [
    "df.head()"
   ]
  },
  {
   "cell_type": "markdown",
   "metadata": {},
   "source": [
    "### INITIAL DATA EXPLORATION"
   ]
  },
  {
   "cell_type": "code",
   "execution_count": 21,
   "metadata": {
    "collapsed": false
   },
   "outputs": [
    {
     "data": {
      "text/plain": [
       "Id               int64\n",
       "Lot              int64\n",
       "Util            object\n",
       "Hood            object\n",
       "BldgType        object\n",
       "Style           object\n",
       "Quality          int64\n",
       "Condition        int64\n",
       "YearBuilt        int64\n",
       "YearRemod        int64\n",
       "RoofStyle       object\n",
       "RoofMatl        object\n",
       "AbvGroundLiv     int64\n",
       "FullBath         int64\n",
       "HalfBath         int64\n",
       "BedroomAbvGr     int64\n",
       "KitchenAbvGr     int64\n",
       "MonthSold        int64\n",
       "YearSold         int64\n",
       "SalePrice        int64\n",
       "Center          object\n",
       "North           object\n",
       "East            object\n",
       "West            object\n",
       "South           object\n",
       "NoRidge         object\n",
       "Edwards         object\n",
       "dtype: object"
      ]
     },
     "execution_count": 21,
     "metadata": {},
     "output_type": "execute_result"
    }
   ],
   "source": [
    "df.dtypes"
   ]
  },
  {
   "cell_type": "code",
   "execution_count": 22,
   "metadata": {
    "collapsed": false
   },
   "outputs": [
    {
     "data": {
      "text/plain": [
       "2009    338\n",
       "2007    329\n",
       "2006    314\n",
       "2008    304\n",
       "2010    175\n",
       "Name: YearSold, dtype: int64"
      ]
     },
     "execution_count": 22,
     "metadata": {},
     "output_type": "execute_result"
    }
   ],
   "source": [
    "df['YearSold'].value_counts()"
   ]
  },
  {
   "cell_type": "code",
   "execution_count": 23,
   "metadata": {
    "collapsed": false
   },
   "outputs": [
    {
     "data": {
      "text/plain": [
       "AllPub    1459\n",
       "NoSeWa       1\n",
       "Name: Util, dtype: int64"
      ]
     },
     "execution_count": 23,
     "metadata": {},
     "output_type": "execute_result"
    }
   ],
   "source": [
    "#Utilities has only one observation without All Public Utilities. Consider Removing\n",
    "df[\"Util\"].value_counts()"
   ]
  },
  {
   "cell_type": "code",
   "execution_count": 24,
   "metadata": {
    "collapsed": false
   },
   "outputs": [],
   "source": [
    "df = df.drop('Util', axis = 1)"
   ]
  },
  {
   "cell_type": "code",
   "execution_count": 25,
   "metadata": {
    "collapsed": false
   },
   "outputs": [
    {
     "data": {
      "text/plain": [
       "NAmes      225\n",
       "CollgCr    150\n",
       "OldTown    113\n",
       "Edwards    100\n",
       "Somerst     86\n",
       "Name: Hood, dtype: int64"
      ]
     },
     "execution_count": 25,
     "metadata": {},
     "output_type": "execute_result"
    }
   ],
   "source": [
    "#Several Different Value Counts. Consider tansforming to Categorical/Dummy Values\n",
    "df[\"Hood\"].value_counts().head()"
   ]
  },
  {
   "cell_type": "code",
   "execution_count": 26,
   "metadata": {
    "collapsed": false
   },
   "outputs": [
    {
     "data": {
      "text/plain": [
       "1Fam      1220\n",
       "TwnhsE     114\n",
       "Duplex      52\n",
       "Twnhs       43\n",
       "2fmCon      31\n",
       "Name: BldgType, dtype: int64"
      ]
     },
     "execution_count": 26,
     "metadata": {},
     "output_type": "execute_result"
    }
   ],
   "source": [
    "df['BldgType'].value_counts()"
   ]
  },
  {
   "cell_type": "code",
   "execution_count": 27,
   "metadata": {
    "collapsed": true
   },
   "outputs": [],
   "source": [
    "df = df[df['BldgType'] == '1Fam']\n",
    "\n",
    "#df = df.drop('BldgType', axis = 1)"
   ]
  },
  {
   "cell_type": "code",
   "execution_count": 28,
   "metadata": {
    "collapsed": false
   },
   "outputs": [
    {
     "data": {
      "text/plain": [
       "1Story    607\n",
       "2Story    362\n",
       "1.5Fin    142\n",
       "SLvl       60\n",
       "SFoyer     20\n",
       "1.5Unf     13\n",
       "2.5Unf      9\n",
       "2.5Fin      7\n",
       "Name: Style, dtype: int64"
      ]
     },
     "execution_count": 28,
     "metadata": {},
     "output_type": "execute_result"
    }
   ],
   "source": [
    "df['Style'].value_counts()"
   ]
  },
  {
   "cell_type": "code",
   "execution_count": 29,
   "metadata": {
    "collapsed": false
   },
   "outputs": [],
   "source": [
    "df = df[(df['Style'] == '1Story')| (df['Style'] == '2Story')]"
   ]
  },
  {
   "cell_type": "code",
   "execution_count": 30,
   "metadata": {
    "collapsed": false
   },
   "outputs": [
    {
     "data": {
      "text/plain": [
       "5     246\n",
       "7     233\n",
       "6     218\n",
       "8     135\n",
       "4      67\n",
       "9      37\n",
       "10     16\n",
       "3      12\n",
       "2       3\n",
       "1       2\n",
       "Name: Quality, dtype: int64"
      ]
     },
     "execution_count": 30,
     "metadata": {},
     "output_type": "execute_result"
    }
   ],
   "source": [
    "df['Quality'].value_counts()"
   ]
  },
  {
   "cell_type": "code",
   "execution_count": 31,
   "metadata": {
    "collapsed": false
   },
   "outputs": [
    {
     "data": {
      "text/plain": [
       "Gable      713\n",
       "Hip        233\n",
       "Flat        10\n",
       "Gambrel      7\n",
       "Mansard      5\n",
       "Shed         1\n",
       "Name: RoofStyle, dtype: int64"
      ]
     },
     "execution_count": 31,
     "metadata": {},
     "output_type": "execute_result"
    }
   ],
   "source": [
    "df['RoofStyle'].value_counts()"
   ]
  },
  {
   "cell_type": "code",
   "execution_count": 32,
   "metadata": {
    "collapsed": true
   },
   "outputs": [],
   "source": [
    "df = df[(df['RoofStyle'] == 'Gable')| (df['RoofStyle'] == 'Hip')]"
   ]
  },
  {
   "cell_type": "markdown",
   "metadata": {},
   "source": [
    "Condition Ordered Categorical Variable"
   ]
  },
  {
   "cell_type": "code",
   "execution_count": 33,
   "metadata": {
    "collapsed": false
   },
   "outputs": [
    {
     "data": {
      "text/plain": [
       "5    569\n",
       "6    157\n",
       "7    124\n",
       "8     43\n",
       "4     22\n",
       "3     15\n",
       "9     11\n",
       "2      4\n",
       "1      1\n",
       "Name: Condition, dtype: int64"
      ]
     },
     "execution_count": 33,
     "metadata": {},
     "output_type": "execute_result"
    }
   ],
   "source": [
    "df['Condition'].value_counts()"
   ]
  },
  {
   "cell_type": "code",
   "execution_count": 34,
   "metadata": {
    "collapsed": false
   },
   "outputs": [
    {
     "data": {
      "text/plain": [
       "<matplotlib.axes._subplots.AxesSubplot at 0x115382350>"
      ]
     },
     "execution_count": 34,
     "metadata": {},
     "output_type": "execute_result"
    },
    {
     "data": {
      "image/png": "[encoded data removed]",
      "text/plain": [
       "<matplotlib.figure.Figure at 0x11539dd50>"
      ]
     },
     "metadata": {},
     "output_type": "display_data"
    }
   ],
   "source": [
    "#Over 100 years of housing in dataset, over 61 different years of remodeling.\n",
    "df['YearBuilt'].hist()"
   ]
  },
  {
   "cell_type": "code",
   "execution_count": 35,
   "metadata": {
    "collapsed": false
   },
   "outputs": [
    {
     "data": {
      "text/plain": [
       "<matplotlib.axes._subplots.AxesSubplot at 0x11539ded0>"
      ]
     },
     "execution_count": 35,
     "metadata": {},
     "output_type": "execute_result"
    },
    {
     "data": {
      "image/png": "[encoded data removed]",
      "text/plain": [
       "<matplotlib.figure.Figure at 0x1180ca0d0>"
      ]
     },
     "metadata": {},
     "output_type": "display_data"
    }
   ],
   "source": [
    "sns.boxplot(x='YearBuilt', data=df)"
   ]
  },
  {
   "cell_type": "code",
   "execution_count": 36,
   "metadata": {
    "collapsed": false
   },
   "outputs": [
    {
     "data": {
      "text/html": [
       "<div>\n",
       "<table border=\"1\" class=\"dataframe\">\n",
       "  <thead>\n",
       "    <tr style=\"text-align: right;\">\n",
       "      <th></th>\n",
       "      <th>Id</th>\n",
       "      <th>Lot</th>\n",
       "      <th>Hood</th>\n",
       "      <th>BldgType</th>\n",
       "      <th>Style</th>\n",
       "      <th>Quality</th>\n",
       "      <th>Condition</th>\n",
       "      <th>YearBuilt</th>\n",
       "      <th>YearRemod</th>\n",
       "      <th>RoofStyle</th>\n",
       "      <th>...</th>\n",
       "      <th>MonthSold</th>\n",
       "      <th>YearSold</th>\n",
       "      <th>SalePrice</th>\n",
       "      <th>Center</th>\n",
       "      <th>North</th>\n",
       "      <th>East</th>\n",
       "      <th>West</th>\n",
       "      <th>South</th>\n",
       "      <th>NoRidge</th>\n",
       "      <th>Edwards</th>\n",
       "    </tr>\n",
       "  </thead>\n",
       "  <tbody>\n",
       "    <tr>\n",
       "      <th>630</th>\n",
       "      <td>631</td>\n",
       "      <td>9000</td>\n",
       "      <td>OldTown</td>\n",
       "      <td>1Fam</td>\n",
       "      <td>2Story</td>\n",
       "      <td>5</td>\n",
       "      <td>6</td>\n",
       "      <td>1880</td>\n",
       "      <td>1991</td>\n",
       "      <td>Gable</td>\n",
       "      <td>...</td>\n",
       "      <td>6</td>\n",
       "      <td>2006</td>\n",
       "      <td>124000</td>\n",
       "      <td>no</td>\n",
       "      <td>yes</td>\n",
       "      <td>yes</td>\n",
       "      <td>no</td>\n",
       "      <td>no</td>\n",
       "      <td>no</td>\n",
       "      <td>no</td>\n",
       "    </tr>\n",
       "    <tr>\n",
       "      <th>716</th>\n",
       "      <td>717</td>\n",
       "      <td>10800</td>\n",
       "      <td>OldTown</td>\n",
       "      <td>1Fam</td>\n",
       "      <td>2Story</td>\n",
       "      <td>7</td>\n",
       "      <td>8</td>\n",
       "      <td>1890</td>\n",
       "      <td>1998</td>\n",
       "      <td>Gable</td>\n",
       "      <td>...</td>\n",
       "      <td>7</td>\n",
       "      <td>2007</td>\n",
       "      <td>159500</td>\n",
       "      <td>no</td>\n",
       "      <td>yes</td>\n",
       "      <td>yes</td>\n",
       "      <td>no</td>\n",
       "      <td>no</td>\n",
       "      <td>no</td>\n",
       "      <td>no</td>\n",
       "    </tr>\n",
       "    <tr>\n",
       "      <th>991</th>\n",
       "      <td>992</td>\n",
       "      <td>17671</td>\n",
       "      <td>OldTown</td>\n",
       "      <td>1Fam</td>\n",
       "      <td>2Story</td>\n",
       "      <td>8</td>\n",
       "      <td>9</td>\n",
       "      <td>1882</td>\n",
       "      <td>1986</td>\n",
       "      <td>Gable</td>\n",
       "      <td>...</td>\n",
       "      <td>11</td>\n",
       "      <td>2009</td>\n",
       "      <td>168000</td>\n",
       "      <td>no</td>\n",
       "      <td>yes</td>\n",
       "      <td>yes</td>\n",
       "      <td>no</td>\n",
       "      <td>no</td>\n",
       "      <td>no</td>\n",
       "      <td>no</td>\n",
       "    </tr>\n",
       "    <tr>\n",
       "      <th>1132</th>\n",
       "      <td>1133</td>\n",
       "      <td>9900</td>\n",
       "      <td>OldTown</td>\n",
       "      <td>1Fam</td>\n",
       "      <td>2Story</td>\n",
       "      <td>6</td>\n",
       "      <td>4</td>\n",
       "      <td>1880</td>\n",
       "      <td>1950</td>\n",
       "      <td>Gable</td>\n",
       "      <td>...</td>\n",
       "      <td>5</td>\n",
       "      <td>2007</td>\n",
       "      <td>117500</td>\n",
       "      <td>no</td>\n",
       "      <td>yes</td>\n",
       "      <td>yes</td>\n",
       "      <td>no</td>\n",
       "      <td>no</td>\n",
       "      <td>no</td>\n",
       "      <td>no</td>\n",
       "    </tr>\n",
       "    <tr>\n",
       "      <th>1292</th>\n",
       "      <td>1293</td>\n",
       "      <td>6600</td>\n",
       "      <td>OldTown</td>\n",
       "      <td>1Fam</td>\n",
       "      <td>2Story</td>\n",
       "      <td>5</td>\n",
       "      <td>4</td>\n",
       "      <td>1892</td>\n",
       "      <td>1965</td>\n",
       "      <td>Gable</td>\n",
       "      <td>...</td>\n",
       "      <td>12</td>\n",
       "      <td>2009</td>\n",
       "      <td>107500</td>\n",
       "      <td>no</td>\n",
       "      <td>yes</td>\n",
       "      <td>yes</td>\n",
       "      <td>no</td>\n",
       "      <td>no</td>\n",
       "      <td>no</td>\n",
       "      <td>no</td>\n",
       "    </tr>\n",
       "    <tr>\n",
       "      <th>1349</th>\n",
       "      <td>1350</td>\n",
       "      <td>5250</td>\n",
       "      <td>OldTown</td>\n",
       "      <td>1Fam</td>\n",
       "      <td>2Story</td>\n",
       "      <td>8</td>\n",
       "      <td>5</td>\n",
       "      <td>1872</td>\n",
       "      <td>1987</td>\n",
       "      <td>Gable</td>\n",
       "      <td>...</td>\n",
       "      <td>12</td>\n",
       "      <td>2008</td>\n",
       "      <td>122000</td>\n",
       "      <td>no</td>\n",
       "      <td>yes</td>\n",
       "      <td>yes</td>\n",
       "      <td>no</td>\n",
       "      <td>no</td>\n",
       "      <td>no</td>\n",
       "      <td>no</td>\n",
       "    </tr>\n",
       "  </tbody>\n",
       "</table>\n",
       "<p>6 rows × 26 columns</p>\n",
       "</div>"
      ],
      "text/plain": [
       "        Id    Lot     Hood BldgType   Style  Quality  Condition  YearBuilt  \\\n",
       "630    631   9000  OldTown     1Fam  2Story        5          6       1880   \n",
       "716    717  10800  OldTown     1Fam  2Story        7          8       1890   \n",
       "991    992  17671  OldTown     1Fam  2Story        8          9       1882   \n",
       "1132  1133   9900  OldTown     1Fam  2Story        6          4       1880   \n",
       "1292  1293   6600  OldTown     1Fam  2Story        5          4       1892   \n",
       "1349  1350   5250  OldTown     1Fam  2Story        8          5       1872   \n",
       "\n",
       "      YearRemod RoofStyle   ...   MonthSold  YearSold  SalePrice  Center  \\\n",
       "630        1991     Gable   ...           6      2006     124000      no   \n",
       "716        1998     Gable   ...           7      2007     159500      no   \n",
       "991        1986     Gable   ...          11      2009     168000      no   \n",
       "1132       1950     Gable   ...           5      2007     117500      no   \n",
       "1292       1965     Gable   ...          12      2009     107500      no   \n",
       "1349       1987     Gable   ...          12      2008     122000      no   \n",
       "\n",
       "      North  East  West  South  NoRidge Edwards  \n",
       "630     yes   yes    no     no       no      no  \n",
       "716     yes   yes    no     no       no      no  \n",
       "991     yes   yes    no     no       no      no  \n",
       "1132    yes   yes    no     no       no      no  \n",
       "1292    yes   yes    no     no       no      no  \n",
       "1349    yes   yes    no     no       no      no  \n",
       "\n",
       "[6 rows x 26 columns]"
      ]
     },
     "execution_count": 36,
     "metadata": {},
     "output_type": "execute_result"
    }
   ],
   "source": [
    "df[df['YearBuilt'] < 1900]"
   ]
  },
  {
   "cell_type": "code",
   "execution_count": 37,
   "metadata": {
    "collapsed": false
   },
   "outputs": [
    {
     "data": {
      "text/plain": [
       "<matplotlib.axes._subplots.AxesSubplot at 0x1184bb2d0>"
      ]
     },
     "execution_count": 37,
     "metadata": {},
     "output_type": "execute_result"
    },
    {
     "data": {
      "image/png": "[encoded data removed]",
      "text/plain": [
       "<matplotlib.figure.Figure at 0x11848f210>"
      ]
     },
     "metadata": {},
     "output_type": "display_data"
    }
   ],
   "source": [
    "df['YearRemod'].hist()"
   ]
  },
  {
   "cell_type": "code",
   "execution_count": 38,
   "metadata": {
    "collapsed": false
   },
   "outputs": [
    {
     "data": {
      "text/plain": [
       "CompShg    939\n",
       "WdShngl      4\n",
       "WdShake      2\n",
       "ClyTile      1\n",
       "Name: RoofMatl, dtype: int64"
      ]
     },
     "execution_count": 38,
     "metadata": {},
     "output_type": "execute_result"
    }
   ],
   "source": [
    "df['RoofMatl'].value_counts()"
   ]
  },
  {
   "cell_type": "code",
   "execution_count": 39,
   "metadata": {
    "collapsed": false
   },
   "outputs": [],
   "source": [
    "df = df[df['RoofMatl'] == 'CompShg']"
   ]
  },
  {
   "cell_type": "code",
   "execution_count": 40,
   "metadata": {
    "collapsed": false
   },
   "outputs": [
    {
     "data": {
      "text/plain": [
       "Index([u'Id', u'Lot', u'Hood', u'BldgType', u'Style', u'Quality', u'Condition',\n",
       "       u'YearBuilt', u'YearRemod', u'RoofStyle', u'RoofMatl', u'AbvGroundLiv',\n",
       "       u'FullBath', u'HalfBath', u'BedroomAbvGr', u'KitchenAbvGr',\n",
       "       u'MonthSold', u'YearSold', u'SalePrice', u'Center', u'North', u'East',\n",
       "       u'West', u'South', u'NoRidge', u'Edwards'],\n",
       "      dtype='object')"
      ]
     },
     "execution_count": 40,
     "metadata": {},
     "output_type": "execute_result"
    }
   ],
   "source": [
    "df.columns"
   ]
  },
  {
   "cell_type": "code",
   "execution_count": 41,
   "metadata": {
    "collapsed": false
   },
   "outputs": [
    {
     "data": {
      "text/plain": [
       "<matplotlib.axes._subplots.AxesSubplot at 0x1187cabd0>"
      ]
     },
     "execution_count": 41,
     "metadata": {},
     "output_type": "execute_result"
    },
    {
     "data": {
      "image/png": "[encoded data removed]",
      "text/plain": [
       "<matplotlib.figure.Figure at 0x118486110>"
      ]
     },
     "metadata": {},
     "output_type": "display_data"
    }
   ],
   "source": [
    "df['AbvGroundLiv'].hist(bins=20)"
   ]
  },
  {
   "cell_type": "code",
   "execution_count": 42,
   "metadata": {
    "collapsed": true
   },
   "outputs": [],
   "source": [
    "df = df[df['AbvGroundLiv'] < 4000]"
   ]
  },
  {
   "cell_type": "code",
   "execution_count": 43,
   "metadata": {
    "collapsed": false
   },
   "outputs": [
    {
     "data": {
      "text/plain": [
       "2    514\n",
       "1    401\n",
       "3     20\n",
       "0      2\n",
       "Name: FullBath, dtype: int64"
      ]
     },
     "execution_count": 43,
     "metadata": {},
     "output_type": "execute_result"
    }
   ],
   "source": [
    "df['FullBath'].value_counts()"
   ]
  },
  {
   "cell_type": "code",
   "execution_count": 44,
   "metadata": {
    "collapsed": true
   },
   "outputs": [],
   "source": [
    "df = df[df['FullBath'] > 0]"
   ]
  },
  {
   "cell_type": "code",
   "execution_count": 45,
   "metadata": {
    "collapsed": false
   },
   "outputs": [
    {
     "data": {
      "text/plain": [
       "0    549\n",
       "1    383\n",
       "2      3\n",
       "Name: HalfBath, dtype: int64"
      ]
     },
     "execution_count": 45,
     "metadata": {},
     "output_type": "execute_result"
    }
   ],
   "source": [
    "df['HalfBath'].value_counts()"
   ]
  },
  {
   "cell_type": "code",
   "execution_count": 46,
   "metadata": {
    "collapsed": true
   },
   "outputs": [],
   "source": [
    "df = df[df['HalfBath'] <= 1]"
   ]
  },
  {
   "cell_type": "code",
   "execution_count": 47,
   "metadata": {
    "collapsed": false
   },
   "outputs": [
    {
     "data": {
      "text/plain": [
       "3    597\n",
       "2    189\n",
       "4    130\n",
       "1     11\n",
       "5      5\n",
       "Name: BedroomAbvGr, dtype: int64"
      ]
     },
     "execution_count": 47,
     "metadata": {},
     "output_type": "execute_result"
    }
   ],
   "source": [
    "df['BedroomAbvGr'].value_counts()"
   ]
  },
  {
   "cell_type": "code",
   "execution_count": 48,
   "metadata": {
    "collapsed": false
   },
   "outputs": [
    {
     "data": {
      "text/plain": [
       "1    929\n",
       "2      3\n",
       "Name: KitchenAbvGr, dtype: int64"
      ]
     },
     "execution_count": 48,
     "metadata": {},
     "output_type": "execute_result"
    }
   ],
   "source": [
    "df['KitchenAbvGr'].value_counts()"
   ]
  },
  {
   "cell_type": "code",
   "execution_count": 49,
   "metadata": {
    "collapsed": true
   },
   "outputs": [],
   "source": [
    "df = df[df['KitchenAbvGr'] < 2]"
   ]
  },
  {
   "cell_type": "code",
   "execution_count": 50,
   "metadata": {
    "collapsed": false
   },
   "outputs": [
    {
     "data": {
      "text/plain": [
       "7     160\n",
       "6     159\n",
       "5     129\n",
       "4      81\n",
       "8      72\n",
       "3      64\n",
       "11     55\n",
       "10     49\n",
       "9      44\n",
       "2      43\n",
       "12     40\n",
       "1      33\n",
       "Name: MonthSold, dtype: int64"
      ]
     },
     "execution_count": 50,
     "metadata": {},
     "output_type": "execute_result"
    }
   ],
   "source": [
    "df['MonthSold'].value_counts()"
   ]
  },
  {
   "cell_type": "code",
   "execution_count": 51,
   "metadata": {
    "collapsed": true
   },
   "outputs": [],
   "source": [
    "month_dict = {\n",
    "    1 : 'January',\n",
    "    2 : 'February',\n",
    "    3 : 'March',\n",
    "    4 : 'April',\n",
    "    5 : \"May\",\n",
    "    6 : 'June',\n",
    "    7 : 'July',\n",
    "    8 : 'August',\n",
    "    9 : \"September\",\n",
    "    10 :'October',\n",
    "    11 : 'November',\n",
    "    12 : 'December'\n",
    "}\n",
    "\n",
    "df['month_sold2'] = df['MonthSold'].apply(lambda x: month_dict[x])"
   ]
  },
  {
   "cell_type": "code",
   "execution_count": 52,
   "metadata": {
    "collapsed": false
   },
   "outputs": [
    {
     "data": {
      "text/plain": [
       "2009    214\n",
       "2007    211\n",
       "2006    201\n",
       "2008    187\n",
       "2010    116\n",
       "Name: YearSold, dtype: int64"
      ]
     },
     "execution_count": 52,
     "metadata": {},
     "output_type": "execute_result"
    }
   ],
   "source": [
    "df['YearSold'].value_counts()"
   ]
  },
  {
   "cell_type": "code",
   "execution_count": 53,
   "metadata": {
    "collapsed": false
   },
   "outputs": [
    {
     "data": {
      "text/plain": [
       "<matplotlib.axes._subplots.AxesSubplot at 0x118a28910>"
      ]
     },
     "execution_count": 53,
     "metadata": {},
     "output_type": "execute_result"
    },
    {
     "data": {
      "image/png": "[encoded data removed]",
      "text/plain": [
       "<matplotlib.figure.Figure at 0x1188b0b90>"
      ]
     },
     "metadata": {},
     "output_type": "display_data"
    }
   ],
   "source": [
    "df['SalePrice'].hist()"
   ]
  },
  {
   "cell_type": "code",
   "execution_count": 54,
   "metadata": {
    "collapsed": false
   },
   "outputs": [
    {
     "data": {
      "text/plain": [
       "NAmes      159\n",
       "CollgCr    134\n",
       "Gilbert     70\n",
       "Somerst     59\n",
       "NWAmes      57\n",
       "NridgHt     55\n",
       "Sawyer      54\n",
       "Edwards     51\n",
       "OldTown     50\n",
       "SawyerW     42\n",
       "NoRidge     37\n",
       "Timber      30\n",
       "Crawfor     30\n",
       "Mitchel     25\n",
       "BrkSide     24\n",
       "IDOTRR      14\n",
       "StoneBr     13\n",
       "ClearCr     12\n",
       "SWISU        7\n",
       "Veenker      5\n",
       "Blmngtn      1\n",
       "Name: Hood, dtype: int64"
      ]
     },
     "execution_count": 54,
     "metadata": {},
     "output_type": "execute_result"
    }
   ],
   "source": [
    "df[\"Hood\"].value_counts()"
   ]
  },
  {
   "cell_type": "code",
   "execution_count": 55,
   "metadata": {
    "collapsed": false
   },
   "outputs": [
    {
     "data": {
      "text/plain": [
       "<matplotlib.axes._subplots.AxesSubplot at 0x118016ed0>"
      ]
     },
     "execution_count": 55,
     "metadata": {},
     "output_type": "execute_result"
    },
    {
     "data": {
      "image/png": "[encoded data removed]",
      "text/plain": [
       "<matplotlib.figure.Figure at 0x118d00910>"
      ]
     },
     "metadata": {},
     "output_type": "display_data"
    }
   ],
   "source": [
    "sns.boxplot(x='Lot', data=df)"
   ]
  },
  {
   "cell_type": "code",
   "execution_count": 56,
   "metadata": {
    "collapsed": true
   },
   "outputs": [],
   "source": [
    "df= df[df['Lot'] <100000]"
   ]
  },
  {
   "cell_type": "code",
   "execution_count": 57,
   "metadata": {
    "collapsed": false
   },
   "outputs": [
    {
     "data": {
      "text/plain": [
       "<matplotlib.axes._subplots.AxesSubplot at 0x118a89b10>"
      ]
     },
     "execution_count": 57,
     "metadata": {},
     "output_type": "execute_result"
    },
    {
     "data": {
      "image/png": "[encoded data removed]",
      "text/plain": [
       "<matplotlib.figure.Figure at 0x118d399d0>"
      ]
     },
     "metadata": {},
     "output_type": "display_data"
    }
   ],
   "source": [
    "sns.boxplot(x='Lot', data=df)"
   ]
  },
  {
   "cell_type": "code",
   "execution_count": 58,
   "metadata": {
    "collapsed": false
   },
   "outputs": [
    {
     "data": {
      "text/html": [
       "<div>\n",
       "<table border=\"1\" class=\"dataframe\">\n",
       "  <thead>\n",
       "    <tr style=\"text-align: right;\">\n",
       "      <th></th>\n",
       "      <th>Id</th>\n",
       "      <th>Lot</th>\n",
       "      <th>Hood</th>\n",
       "      <th>BldgType</th>\n",
       "      <th>Style</th>\n",
       "      <th>Quality</th>\n",
       "      <th>Condition</th>\n",
       "      <th>YearBuilt</th>\n",
       "      <th>YearRemod</th>\n",
       "      <th>RoofStyle</th>\n",
       "      <th>...</th>\n",
       "      <th>YearSold</th>\n",
       "      <th>SalePrice</th>\n",
       "      <th>Center</th>\n",
       "      <th>North</th>\n",
       "      <th>East</th>\n",
       "      <th>West</th>\n",
       "      <th>South</th>\n",
       "      <th>NoRidge</th>\n",
       "      <th>Edwards</th>\n",
       "      <th>month_sold2</th>\n",
       "    </tr>\n",
       "  </thead>\n",
       "  <tbody>\n",
       "    <tr>\n",
       "      <th>0</th>\n",
       "      <td>1</td>\n",
       "      <td>8450</td>\n",
       "      <td>CollgCr</td>\n",
       "      <td>1Fam</td>\n",
       "      <td>2Story</td>\n",
       "      <td>7</td>\n",
       "      <td>5</td>\n",
       "      <td>2003</td>\n",
       "      <td>2003</td>\n",
       "      <td>Gable</td>\n",
       "      <td>...</td>\n",
       "      <td>2008</td>\n",
       "      <td>208500</td>\n",
       "      <td>no</td>\n",
       "      <td>no</td>\n",
       "      <td>no</td>\n",
       "      <td>no</td>\n",
       "      <td>no</td>\n",
       "      <td>no</td>\n",
       "      <td>no</td>\n",
       "      <td>February</td>\n",
       "    </tr>\n",
       "    <tr>\n",
       "      <th>1</th>\n",
       "      <td>2</td>\n",
       "      <td>9600</td>\n",
       "      <td>Veenker</td>\n",
       "      <td>1Fam</td>\n",
       "      <td>1Story</td>\n",
       "      <td>6</td>\n",
       "      <td>8</td>\n",
       "      <td>1976</td>\n",
       "      <td>1976</td>\n",
       "      <td>Gable</td>\n",
       "      <td>...</td>\n",
       "      <td>2007</td>\n",
       "      <td>181500</td>\n",
       "      <td>no</td>\n",
       "      <td>no</td>\n",
       "      <td>no</td>\n",
       "      <td>no</td>\n",
       "      <td>no</td>\n",
       "      <td>no</td>\n",
       "      <td>no</td>\n",
       "      <td>May</td>\n",
       "    </tr>\n",
       "    <tr>\n",
       "      <th>2</th>\n",
       "      <td>3</td>\n",
       "      <td>11250</td>\n",
       "      <td>CollgCr</td>\n",
       "      <td>1Fam</td>\n",
       "      <td>2Story</td>\n",
       "      <td>7</td>\n",
       "      <td>5</td>\n",
       "      <td>2001</td>\n",
       "      <td>2002</td>\n",
       "      <td>Gable</td>\n",
       "      <td>...</td>\n",
       "      <td>2008</td>\n",
       "      <td>223500</td>\n",
       "      <td>no</td>\n",
       "      <td>no</td>\n",
       "      <td>no</td>\n",
       "      <td>no</td>\n",
       "      <td>no</td>\n",
       "      <td>no</td>\n",
       "      <td>no</td>\n",
       "      <td>September</td>\n",
       "    </tr>\n",
       "    <tr>\n",
       "      <th>3</th>\n",
       "      <td>4</td>\n",
       "      <td>9550</td>\n",
       "      <td>Crawfor</td>\n",
       "      <td>1Fam</td>\n",
       "      <td>2Story</td>\n",
       "      <td>7</td>\n",
       "      <td>5</td>\n",
       "      <td>1915</td>\n",
       "      <td>1970</td>\n",
       "      <td>Gable</td>\n",
       "      <td>...</td>\n",
       "      <td>2006</td>\n",
       "      <td>140000</td>\n",
       "      <td>no</td>\n",
       "      <td>yes</td>\n",
       "      <td>yes</td>\n",
       "      <td>no</td>\n",
       "      <td>no</td>\n",
       "      <td>no</td>\n",
       "      <td>no</td>\n",
       "      <td>February</td>\n",
       "    </tr>\n",
       "    <tr>\n",
       "      <th>4</th>\n",
       "      <td>5</td>\n",
       "      <td>14260</td>\n",
       "      <td>NoRidge</td>\n",
       "      <td>1Fam</td>\n",
       "      <td>2Story</td>\n",
       "      <td>8</td>\n",
       "      <td>5</td>\n",
       "      <td>2000</td>\n",
       "      <td>2000</td>\n",
       "      <td>Gable</td>\n",
       "      <td>...</td>\n",
       "      <td>2008</td>\n",
       "      <td>250000</td>\n",
       "      <td>no</td>\n",
       "      <td>no</td>\n",
       "      <td>no</td>\n",
       "      <td>no</td>\n",
       "      <td>no</td>\n",
       "      <td>yes</td>\n",
       "      <td>no</td>\n",
       "      <td>December</td>\n",
       "    </tr>\n",
       "  </tbody>\n",
       "</table>\n",
       "<p>5 rows × 27 columns</p>\n",
       "</div>"
      ],
      "text/plain": [
       "   Id    Lot     Hood BldgType   Style  Quality  Condition  YearBuilt  \\\n",
       "0   1   8450  CollgCr     1Fam  2Story        7          5       2003   \n",
       "1   2   9600  Veenker     1Fam  1Story        6          8       1976   \n",
       "2   3  11250  CollgCr     1Fam  2Story        7          5       2001   \n",
       "3   4   9550  Crawfor     1Fam  2Story        7          5       1915   \n",
       "4   5  14260  NoRidge     1Fam  2Story        8          5       2000   \n",
       "\n",
       "   YearRemod RoofStyle     ...     YearSold  SalePrice  Center  North  East  \\\n",
       "0       2003     Gable     ...         2008     208500      no     no    no   \n",
       "1       1976     Gable     ...         2007     181500      no     no    no   \n",
       "2       2002     Gable     ...         2008     223500      no     no    no   \n",
       "3       1970     Gable     ...         2006     140000      no    yes   yes   \n",
       "4       2000     Gable     ...         2008     250000      no     no    no   \n",
       "\n",
       "   West  South  NoRidge  Edwards month_sold2  \n",
       "0    no     no       no       no    February  \n",
       "1    no     no       no       no         May  \n",
       "2    no     no       no       no   September  \n",
       "3    no     no       no       no    February  \n",
       "4    no     no      yes       no    December  \n",
       "\n",
       "[5 rows x 27 columns]"
      ]
     },
     "execution_count": 58,
     "metadata": {},
     "output_type": "execute_result"
    }
   ],
   "source": [
    "df.head()"
   ]
  },
  {
   "cell_type": "code",
   "execution_count": 59,
   "metadata": {
    "collapsed": false
   },
   "outputs": [
    {
     "data": {
      "text/plain": [
       "<seaborn.axisgrid.PairGrid at 0x118a671d0>"
      ]
     },
     "execution_count": 59,
     "metadata": {},
     "output_type": "execute_result"
    },
    {
     "data": {
      "image/png": "[encoded data removed]",
      "text/plain": [
       "<matplotlib.figure.Figure at 0x118fee510>"
      ]
     },
     "metadata": {},
     "output_type": "display_data"
    }
   ],
   "source": [
    "sns.pairplot(df[['Lot', 'YearBuilt', 'YearRemod', 'SalePrice', ]])"
   ]
  },
  {
   "cell_type": "markdown",
   "metadata": {},
   "source": [
    "### II. DATA VISUALIZATION"
   ]
  },
  {
   "cell_type": "code",
   "execution_count": 60,
   "metadata": {
    "collapsed": false
   },
   "outputs": [],
   "source": [
    "#sns.pairplot(df)"
   ]
  },
  {
   "cell_type": "code",
   "execution_count": null,
   "metadata": {
    "collapsed": true
   },
   "outputs": [],
   "source": []
  },
  {
   "cell_type": "code",
   "execution_count": 61,
   "metadata": {
    "collapsed": false
   },
   "outputs": [
    {
     "data": {
      "image/png": "[encoded data removed]",
      "text/plain": [
       "<matplotlib.figure.Figure at 0x11b178ad0>"
      ]
     },
     "metadata": {},
     "output_type": "display_data"
    }
   ],
   "source": [
    "#Heat map reveals some strong correlations between price and the following variables: \\\n",
    "#...quality, Above Ground Living area. There are weak correlations between price and| \n",
    "# ...Above Ground Kitchen, Month Sold, and year sold. \n",
    "# Othe variables appear to have moderate correlations.\n",
    "\n",
    "import seaborn as sns\n",
    "sns.heatmap(df.corr())\n",
    "plt.show()\n",
    "\n",
    "# print \"AbvGroundLiv Correlation:\" , df['SalePrice'].corr(df['AbvGroundLiv'])\n",
    "# print \"Quality Correlation: \", df['SalePrice'].corr(df['Quality'])\n",
    "# print \"North Correlation: \", df['SalePrice'].corr(df['North_yes'])\n",
    "# print \"South Correlation: \", df['SalePrice'].corr(df['South_yes'])\n",
    "# print \"East Correlation: \", df['SalePrice'].corr(df['East_yes'])\n",
    "# print \"West Correlation: \", df['SalePrice'].corr(df['West_yes'])\n",
    "# print \"Center Correlation:\", df['SalePrice'].corr(df['Center_yes'])\n",
    "# print \"North Ridge Correlation\", df['SalePrice'].corr(df['NoRidge_yes'])\n",
    "# print 'Edwards Correlation', df['SalePrice'].corr(df['Edwards_yes'])"
   ]
  },
  {
   "cell_type": "markdown",
   "metadata": {},
   "source": [
    "# A .EXAMINATION OF HIGHLY CORRELATED VALUES "
   ]
  },
  {
   "cell_type": "markdown",
   "metadata": {},
   "source": [
    "## (1). Quality of Home "
   ]
  },
  {
   "cell_type": "code",
   "execution_count": 62,
   "metadata": {
    "collapsed": false
   },
   "outputs": [
    {
     "name": "stderr",
     "output_type": "stream",
     "text": [
      "//anaconda/lib/python2.7/site-packages/matplotlib/figure.py:397: UserWarning: matplotlib is currently using a non-GUI backend, so cannot show the figure\n",
      "  \"matplotlib is currently using a non-GUI backend, \"\n"
     ]
    },
    {
     "data": {
      "image/png": "[encoded data removed]",
      "text/plain": [
       "<matplotlib.figure.Figure at 0x115965e50>"
      ]
     },
     "metadata": {},
     "output_type": "display_data"
    }
   ],
   "source": [
    "# There appears to be a linear relationship, between Quality and SalePrice\\ \n",
    "##...though the variables are categorical and appear to have a lot of variation.\n",
    "x1 = df[\"Quality\"]\n",
    "y1 = df['SalePrice']\n",
    "\n",
    "fig, ax = plt.subplots()\n",
    "fit = np.polyfit(x1, y1, deg=1)\n",
    "ax.plot(x1, fit[0] * x1 + fit[1], color='red')\n",
    "ax.scatter(x1, y1)\n",
    "plt.xlabel(\"Overall Quality of Home\", fontsize=18)\n",
    "plt.ylabel('Sales Price', fontsize=16)\n",
    "fig.show()"
   ]
  },
  {
   "cell_type": "code",
   "execution_count": 63,
   "metadata": {
    "collapsed": false
   },
   "outputs": [
    {
     "data": {
      "text/plain": [
       "<matplotlib.axes._subplots.AxesSubplot at 0x11b96da10>"
      ]
     },
     "execution_count": 63,
     "metadata": {},
     "output_type": "execute_result"
    },
    {
     "data": {
      "image/png": "[encoded data removed]",
      "text/plain": [
       "<matplotlib.figure.Figure at 0x11594cc10>"
      ]
     },
     "metadata": {},
     "output_type": "display_data"
    }
   ],
   "source": [
    "# A boxplot of every subcategory not only hints at a linear relationship,\n",
    "# but it also shows that the better the quality, the greater the variation in price. \n",
    "#Not surprisigly, there's a big jump in the median when the quality rating of a home is over \"7\"\\\n",
    "#Interestingly, the IQR of a home with a rating of 10 overlaps with that of 9, meaning, \n",
    "#...Homes that are a 10 may sell for less than a home that's a 9.\n",
    "# In fact, there are homes with a quality of 10 that are going for the same price as ...\n",
    "# as homes with a quality ranking of 6, 7 & 9. \n",
    "\n",
    "#Hypthesis tests will help us sort this out. \n",
    "\n",
    "sns.boxplot(x=\"Quality\", y=\"SalePrice\", data=df)"
   ]
  },
  {
   "cell_type": "code",
   "execution_count": 64,
   "metadata": {
    "collapsed": false
   },
   "outputs": [
    {
     "data": {
      "text/html": [
       "<div>\n",
       "<table border=\"1\" class=\"dataframe\">\n",
       "  <thead>\n",
       "    <tr style=\"text-align: right;\">\n",
       "      <th></th>\n",
       "      <th>mean</th>\n",
       "      <th>std</th>\n",
       "      <th>amin</th>\n",
       "      <th>amax</th>\n",
       "      <th>len</th>\n",
       "    </tr>\n",
       "    <tr>\n",
       "      <th>Quality</th>\n",
       "      <th></th>\n",
       "      <th></th>\n",
       "      <th></th>\n",
       "      <th></th>\n",
       "      <th></th>\n",
       "    </tr>\n",
       "  </thead>\n",
       "  <tbody>\n",
       "    <tr>\n",
       "      <th>1</th>\n",
       "      <td>39300</td>\n",
       "      <td>NaN</td>\n",
       "      <td>39300</td>\n",
       "      <td>39300</td>\n",
       "      <td>1</td>\n",
       "    </tr>\n",
       "    <tr>\n",
       "      <th>2</th>\n",
       "      <td>60000</td>\n",
       "      <td>0.000000</td>\n",
       "      <td>60000</td>\n",
       "      <td>60000</td>\n",
       "      <td>2</td>\n",
       "    </tr>\n",
       "    <tr>\n",
       "      <th>3</th>\n",
       "      <td>84327</td>\n",
       "      <td>28094.618034</td>\n",
       "      <td>52000</td>\n",
       "      <td>139600</td>\n",
       "      <td>10</td>\n",
       "    </tr>\n",
       "    <tr>\n",
       "      <th>4</th>\n",
       "      <td>108380</td>\n",
       "      <td>25167.291254</td>\n",
       "      <td>34900</td>\n",
       "      <td>176000</td>\n",
       "      <td>63</td>\n",
       "    </tr>\n",
       "    <tr>\n",
       "      <th>5</th>\n",
       "      <td>133215</td>\n",
       "      <td>27556.490224</td>\n",
       "      <td>55993</td>\n",
       "      <td>225000</td>\n",
       "      <td>241</td>\n",
       "    </tr>\n",
       "    <tr>\n",
       "      <th>6</th>\n",
       "      <td>172834</td>\n",
       "      <td>31560.743677</td>\n",
       "      <td>91000</td>\n",
       "      <td>272000</td>\n",
       "      <td>210</td>\n",
       "    </tr>\n",
       "    <tr>\n",
       "      <th>7</th>\n",
       "      <td>215150</td>\n",
       "      <td>42375.411398</td>\n",
       "      <td>82500</td>\n",
       "      <td>383970</td>\n",
       "      <td>221</td>\n",
       "    </tr>\n",
       "    <tr>\n",
       "      <th>8</th>\n",
       "      <td>281742</td>\n",
       "      <td>62364.934557</td>\n",
       "      <td>122000</td>\n",
       "      <td>538000</td>\n",
       "      <td>131</td>\n",
       "    </tr>\n",
       "    <tr>\n",
       "      <th>9</th>\n",
       "      <td>376122</td>\n",
       "      <td>84493.965604</td>\n",
       "      <td>239000</td>\n",
       "      <td>611657</td>\n",
       "      <td>36</td>\n",
       "    </tr>\n",
       "    <tr>\n",
       "      <th>10</th>\n",
       "      <td>437486</td>\n",
       "      <td>87251.653599</td>\n",
       "      <td>310000</td>\n",
       "      <td>625000</td>\n",
       "      <td>12</td>\n",
       "    </tr>\n",
       "  </tbody>\n",
       "</table>\n",
       "</div>"
      ],
      "text/plain": [
       "           mean           std    amin    amax  len\n",
       "Quality                                           \n",
       "1         39300           NaN   39300   39300    1\n",
       "2         60000      0.000000   60000   60000    2\n",
       "3         84327  28094.618034   52000  139600   10\n",
       "4        108380  25167.291254   34900  176000   63\n",
       "5        133215  27556.490224   55993  225000  241\n",
       "6        172834  31560.743677   91000  272000  210\n",
       "7        215150  42375.411398   82500  383970  221\n",
       "8        281742  62364.934557  122000  538000  131\n",
       "9        376122  84493.965604  239000  611657   36\n",
       "10       437486  87251.653599  310000  625000   12"
      ]
     },
     "execution_count": 64,
     "metadata": {},
     "output_type": "execute_result"
    }
   ],
   "source": [
    "pd.pivot_table(df, index='Quality', values = 'SalePrice', aggfunc= (np.mean,np.std, np.min, np.max,len))"
   ]
  },
  {
   "cell_type": "code",
   "execution_count": 65,
   "metadata": {
    "collapsed": false
   },
   "outputs": [
    {
     "name": "stdout",
     "output_type": "stream",
     "text": [
      "                sum_sq     df            F         PR(>F)\n",
      "Quality   4.360543e+12    1.0  2068.710424  3.911302e-238\n",
      "Residual  1.949766e+12  925.0          NaN            NaN\n"
     ]
    }
   ],
   "source": [
    "#ANOVA TEST: Sales Price relative to the Quality of a home. \n",
    "\n",
    "cw_lm=ols('SalePrice ~ Quality', data=df).fit() #Specify C for Categorical\n",
    "print(sm.stats.anova_lm(cw_lm, typ=2))"
   ]
  },
  {
   "cell_type": "code",
   "execution_count": 66,
   "metadata": {
    "collapsed": false
   },
   "outputs": [],
   "source": [
    "#Hypothesis Test: Boxplot shows that some lower quality homes (3,4,5 &6) have overlapping IQRs. \n",
    "#Is there a meaningful difference in price?\n",
    "\n",
    "cat1_0 = df[df['Quality']== 1]\n",
    "cat1_1 = df[df['Quality']== 2]\n",
    "cat1 = df[df['Quality']== 3]\n",
    "cat2 = df[df['Quality']==4]\n",
    "cat3 = df[df['Quality']==5]\n",
    "cat4 = df[df['Quality']==6]\n",
    "cat5 = df[df['Quality']==7]\n",
    "cat6 = df[df['Quality']==8]\n",
    "cat7 = df[df['Quality']==9]\n",
    "cat8 = df[df['Quality']==10]\n"
   ]
  },
  {
   "cell_type": "code",
   "execution_count": 67,
   "metadata": {
    "collapsed": false
   },
   "outputs": [
    {
     "name": "stdout",
     "output_type": "stream",
     "text": [
      "('t-stat Quality Level 1 & 2:', nan, 'p-value', nan)\n"
     ]
    },
    {
     "name": "stderr",
     "output_type": "stream",
     "text": [
      "//anaconda/lib/python2.7/site-packages/numpy/core/_methods.py:82: RuntimeWarning: Degrees of freedom <= 0 for slice\n",
      "  warnings.warn(\"Degrees of freedom <= 0 for slice\", RuntimeWarning)\n"
     ]
    }
   ],
   "source": [
    "# Hypothesis testing (Two Sided) the difference in price of lower quality homes.\n",
    "#FAIL TO REJECT THE null. There is no difference in mean in a home that is quality 1 or 2.\n",
    "\n",
    "from scipy.stats import ttest_ind\n",
    "tstat, pvalue = ttest_ind(cat1_0['SalePrice'], cat1_1['SalePrice'])\n",
    "print('t-stat Quality Level 1 & 2:', tstat , 'p-value', pvalue)"
   ]
  },
  {
   "cell_type": "code",
   "execution_count": 68,
   "metadata": {
    "collapsed": false
   },
   "outputs": [
    {
     "name": "stdout",
     "output_type": "stream",
     "text": [
      "('t-stat Quality Level 3 & 4:', -2.764850441807936, 'p-value', 0.007251054500708033)\n"
     ]
    }
   ],
   "source": [
    "# Hypothesis testing (Two Sided) the difference in price of lower quality homes.\n",
    "#Reject null that mean in Quality level 3 = Quality Level 4\n",
    "\n",
    "from scipy.stats import ttest_ind\n",
    "tstat, pvalue = ttest_ind(cat1['SalePrice'], cat2['SalePrice'])\n",
    "print('t-stat Quality Level 3 & 4:', tstat , 'p-value', pvalue)\n"
   ]
  },
  {
   "cell_type": "code",
   "execution_count": 69,
   "metadata": {
    "collapsed": false
   },
   "outputs": [
    {
     "name": "stdout",
     "output_type": "stream",
     "text": [
      "('t-stat Quality Level 4 & 5:', -6.4804606957655233, 'p-value', 3.7147816996406087e-10)\n"
     ]
    }
   ],
   "source": [
    "#Reject null that mean in Quality level 4 = Quality Level 5\n",
    "\n",
    "tstat, pvalue = ttest_ind(cat2['SalePrice'], cat3['SalePrice'])\n",
    "print('t-stat Quality Level 4 & 5:', tstat , 'p-value', pvalue)"
   ]
  },
  {
   "cell_type": "code",
   "execution_count": 70,
   "metadata": {
    "collapsed": false
   },
   "outputs": [
    {
     "name": "stdout",
     "output_type": "stream",
     "text": [
      "('t-stat Quality Level 5 & 6:', -14.232662825475703, 'p-value', 3.3296380100006291e-38)\n"
     ]
    }
   ],
   "source": [
    "#Reject null that mean in Quality level 5 = Quality Level 6\n",
    "tstat, pvalue = ttest_ind(cat3['SalePrice'], cat4['SalePrice'])\n",
    "print('t-stat Quality Level 5 & 6:', tstat , 'p-value', pvalue)"
   ]
  },
  {
   "cell_type": "code",
   "execution_count": 71,
   "metadata": {
    "collapsed": false
   },
   "outputs": [
    {
     "name": "stdout",
     "output_type": "stream",
     "text": [
      "('t-stat Quality Level 9 & 10:', -2.1616938023557348, 'p-value', 0.035880143624336655)\n"
     ]
    }
   ],
   "source": [
    "#Reject null that mean in Quality level 9 = Quality Level 10\n",
    "tstat, pvalue = ttest_ind(cat7['SalePrice'], cat8['SalePrice'])\n",
    "print('t-stat Quality Level 9 & 10:', tstat , 'p-value', pvalue)"
   ]
  },
  {
   "cell_type": "code",
   "execution_count": 72,
   "metadata": {
    "collapsed": false
   },
   "outputs": [
    {
     "data": {
      "image/png": "[encoded data removed]",
      "text/plain": [
       "<matplotlib.figure.Figure at 0x11bcfa3d0>"
      ]
     },
     "metadata": {},
     "output_type": "display_data"
    }
   ],
   "source": [
    "# Most homes sold in the data have a quality of 5 & 6.\n",
    "df.hist('Quality',figsize = (10,8),bins = 10, color= \"purple\")\n",
    "plt.xlabel('Overall Quality of Home')\n",
    "plt.ylabel('Frequency')\n",
    "plt.show()\n"
   ]
  },
  {
   "cell_type": "markdown",
   "metadata": {},
   "source": [
    "## (2) Above Ground Living Area\n"
   ]
  },
  {
   "cell_type": "code",
   "execution_count": 107,
   "metadata": {
    "collapsed": false
   },
   "outputs": [
    {
     "data": {
      "image/png": "[encoded data removed]",
      "text/plain": [
       "<matplotlib.figure.Figure at 0x11e299d90>"
      ]
     },
     "metadata": {},
     "output_type": "display_data"
    }
   ],
   "source": [
    "# There is a clear lineare relationship between sales price and the Are of an above ground \n",
    "# ...living area.\n",
    "\n",
    "x1 = df[\"AbvGroundLiv\"]\n",
    "y1 = df['SalePrice']\n",
    "\n",
    "fig, ax = plt.subplots()\n",
    "fit = np.polyfit(x1, y1, deg=1)\n",
    "ax.plot(x1, fit[0] * x1 + fit[1], color='red', linewidth = 0.5)\n",
    "ax.scatter(x1, y1)\n",
    "plt.xlabel(\"Above Ground Living Area, sq ft\", fontsize=18)\n",
    "plt.ylabel('Sales Price', fontsize=16)\n",
    "plt.title(\"SALES PRICE v. SQUARE FOOTAGE OF HOME\")\n",
    "fig.show()"
   ]
  },
  {
   "cell_type": "code",
   "execution_count": 74,
   "metadata": {
    "collapsed": false
   },
   "outputs": [
    {
     "data": {
      "text/plain": [
       "array([[<matplotlib.axes._subplots.AxesSubplot object at 0x11b0fc890>]], dtype=object)"
      ]
     },
     "execution_count": 74,
     "metadata": {},
     "output_type": "execute_result"
    },
    {
     "data": {
      "image/png": "[encoded data removed]",
      "text/plain": [
       "<matplotlib.figure.Figure at 0x11bc95310>"
      ]
     },
     "metadata": {},
     "output_type": "display_data"
    }
   ],
   "source": [
    "df.hist(\"AbvGroundLiv\",figsize = (10,8),bins = 10)"
   ]
  },
  {
   "cell_type": "markdown",
   "metadata": {},
   "source": [
    "## (3) Full Bath"
   ]
  },
  {
   "cell_type": "markdown",
   "metadata": {},
   "source": [
    "Full Bath is a categorical variable. There is a relationship between the price of a home in Ames, IA and the number of full bathrooms. The swarmplot below better illustrates the distribution of the Full Bath variable. "
   ]
  },
  {
   "cell_type": "code",
   "execution_count": 112,
   "metadata": {
    "collapsed": false
   },
   "outputs": [
    {
     "data": {
      "image/png": "[encoded data removed]",
      "text/plain": [
       "<matplotlib.figure.Figure at 0x11ea1e950>"
      ]
     },
     "metadata": {},
     "output_type": "display_data"
    }
   ],
   "source": [
    "x1 = df[\"FullBath\"]\n",
    "y1 = df['SalePrice']\n",
    "\n",
    "fig, ax = plt.subplots()\n",
    "fit = np.polyfit(x1, y1, deg=1)\n",
    "ax.plot(x1, fit[0] * x1 + fit[1], color='red')\n",
    "ax.scatter(x1, y1)\n",
    "plt.xlabel(\"Full Bath\", fontsize=18)\n",
    "plt.ylabel('Sales Price', fontsize=16)\n",
    "plt.title('INFLUENCE OF FULL BATHS ON SALES PRICE OF HOME')\n",
    "fig.show()"
   ]
  },
  {
   "cell_type": "code",
   "execution_count": 114,
   "metadata": {
    "collapsed": false
   },
   "outputs": [
    {
     "data": {
      "image/png": "[encoded data removed]",
      "text/plain": [
       "<matplotlib.figure.Figure at 0x11e88fb50>"
      ]
     },
     "metadata": {},
     "output_type": "display_data"
    }
   ],
   "source": [
    "ax = sns.swarmplot(x=\"FullBath\", y=\"SalePrice\", data=df)\n",
    "\n",
    "ax = sns.boxplot(x=\"FullBath\", y=\"SalePrice\", data=df,\n",
    "                 showcaps=False,boxprops={'facecolor':'None'},showfliers=False,whiskerprops={'linewidth':5})\n",
    "plt.title(\"INFLUENCE OF FULL BATHS ON SALES PRICE OF HOME\")\n",
    "plt.show()"
   ]
  },
  {
   "cell_type": "markdown",
   "metadata": {},
   "source": [
    "## (4) Price & Neighborhood"
   ]
  },
  {
   "cell_type": "markdown",
   "metadata": {},
   "source": [
    "Does location influence price? The box plot below demonstrates that prices indeed differ by neighborhood. \n",
    "\n",
    "Most neighborhoods in Ames have median prices below 300,000, and over half have median prices below  200,000. \n",
    "\n",
    "Neighbohoods, like College Creek and Crawford share similar median prices. Same withthe homes near the Old Town, Sawyer  and South & West of Iowa State neighborhoods. \n",
    "\n",
    "Some locations, like the Brookside neighborhood, have lower priced homes, while other neighborhoods, like North Ridge, North Ridge Heights and Stone Brook command much higher prices. \n",
    "\n",
    "The question now is whether this rather uniform variation in median price (100,000- 200,000 range)  will help us to better predict sale prices. "
   ]
  },
  {
   "cell_type": "code",
   "execution_count": 129,
   "metadata": {
    "collapsed": false
   },
   "outputs": [
    {
     "data": {
      "image/png": "[encoded data removed]",
      "text/plain": [
       "<matplotlib.figure.Figure at 0x11ea64c90>"
      ]
     },
     "metadata": {},
     "output_type": "display_data"
    }
   ],
   "source": [
    "ax = sns.boxplot(x=\"HoodCat\", y=\"SalePrice\", data=df,\n",
    "                 showcaps=True,showfliers=True)\n",
    "plt.title(\"Ames Housing Price By Neighborhood\")\n",
    "\n",
    "locs, labels = plt.xticks()\n",
    "plt.setp(labels, rotation=90)\n",
    "plt.show()"
   ]
  },
  {
   "cell_type": "markdown",
   "metadata": {},
   "source": [
    "## (4) Above Ground Living & Quality"
   ]
  },
  {
   "cell_type": "code",
   "execution_count": 77,
   "metadata": {
    "collapsed": false
   },
   "outputs": [
    {
     "data": {
      "image/png": "[encoded data removed]",
      "text/plain": [
       "<matplotlib.figure.Figure at 0x11bc95a90>"
      ]
     },
     "metadata": {},
     "output_type": "display_data"
    }
   ],
   "source": [
    "## Relationship Between Above Ground Living Area & Quality\n",
    "sns.boxplot(x=\"Quality\", y='AbvGroundLiv', data=df)\n",
    "plt.show()"
   ]
  },
  {
   "cell_type": "code",
   "execution_count": 78,
   "metadata": {
    "collapsed": false
   },
   "outputs": [
    {
     "data": {
      "text/html": [
       "<div>\n",
       "<table border=\"1\" class=\"dataframe\">\n",
       "  <thead>\n",
       "    <tr style=\"text-align: right;\">\n",
       "      <th></th>\n",
       "      <th>mean</th>\n",
       "      <th>std</th>\n",
       "      <th>len</th>\n",
       "    </tr>\n",
       "    <tr>\n",
       "      <th>Quality</th>\n",
       "      <th></th>\n",
       "      <th></th>\n",
       "      <th></th>\n",
       "    </tr>\n",
       "  </thead>\n",
       "  <tbody>\n",
       "    <tr>\n",
       "      <th>1</th>\n",
       "      <td>334.000000</td>\n",
       "      <td>NaN</td>\n",
       "      <td>1</td>\n",
       "    </tr>\n",
       "    <tr>\n",
       "      <th>2</th>\n",
       "      <td>619.000000</td>\n",
       "      <td>255.972655</td>\n",
       "      <td>2</td>\n",
       "    </tr>\n",
       "    <tr>\n",
       "      <th>3</th>\n",
       "      <td>1012.400000</td>\n",
       "      <td>318.508747</td>\n",
       "      <td>10</td>\n",
       "    </tr>\n",
       "    <tr>\n",
       "      <th>4</th>\n",
       "      <td>974.730159</td>\n",
       "      <td>212.443936</td>\n",
       "      <td>63</td>\n",
       "    </tr>\n",
       "    <tr>\n",
       "      <th>5</th>\n",
       "      <td>1133.564315</td>\n",
       "      <td>306.553810</td>\n",
       "      <td>241</td>\n",
       "    </tr>\n",
       "    <tr>\n",
       "      <th>6</th>\n",
       "      <td>1506.280952</td>\n",
       "      <td>355.567425</td>\n",
       "      <td>210</td>\n",
       "    </tr>\n",
       "    <tr>\n",
       "      <th>7</th>\n",
       "      <td>1756.226244</td>\n",
       "      <td>361.463708</td>\n",
       "      <td>221</td>\n",
       "    </tr>\n",
       "    <tr>\n",
       "      <th>8</th>\n",
       "      <td>2000.053435</td>\n",
       "      <td>430.071806</td>\n",
       "      <td>131</td>\n",
       "    </tr>\n",
       "    <tr>\n",
       "      <th>9</th>\n",
       "      <td>2144.833333</td>\n",
       "      <td>423.895304</td>\n",
       "      <td>36</td>\n",
       "    </tr>\n",
       "    <tr>\n",
       "      <th>10</th>\n",
       "      <td>2377.666667</td>\n",
       "      <td>507.683748</td>\n",
       "      <td>12</td>\n",
       "    </tr>\n",
       "  </tbody>\n",
       "</table>\n",
       "</div>"
      ],
      "text/plain": [
       "                mean         std  len\n",
       "Quality                              \n",
       "1         334.000000         NaN    1\n",
       "2         619.000000  255.972655    2\n",
       "3        1012.400000  318.508747   10\n",
       "4         974.730159  212.443936   63\n",
       "5        1133.564315  306.553810  241\n",
       "6        1506.280952  355.567425  210\n",
       "7        1756.226244  361.463708  221\n",
       "8        2000.053435  430.071806  131\n",
       "9        2144.833333  423.895304   36\n",
       "10       2377.666667  507.683748   12"
      ]
     },
     "execution_count": 78,
     "metadata": {},
     "output_type": "execute_result"
    }
   ],
   "source": [
    "pd.pivot_table(df, index= 'Quality', values = 'AbvGroundLiv', aggfunc= (np.mean,np.std, len))"
   ]
  },
  {
   "cell_type": "code",
   "execution_count": 79,
   "metadata": {
    "collapsed": false
   },
   "outputs": [
    {
     "name": "stdout",
     "output_type": "stream",
     "text": [
      "('t-stat Quality Level 1 & 2:', nan, 'p-value', nan)\n",
      "('t-stat Quality Level 2 & 3:', -1.6235538100213922, 'p-value', 0.13553479619251307)\n",
      "('t-stat Quality Level 3 & 4:', 0.48402995720341674, 'p-value', 0.62985427955299789)\n",
      "('t-stat Quality Level 4 & 5:', -3.8741904953436963, 'p-value', 0.00013122201999277611)\n",
      "('t-stat Quality Level 4 & 5:', -11.954552405839799, 'p-value', 8.6872320545373689e-29)\n",
      "('t-stat Quality Level 5 & 6:', -7.2326569007626116, 'p-value', 2.1936302360205297e-12)\n",
      "('t-stat Quality Level 6 & 7:', -5.693816248702821, 'p-value', 2.6328438002850683e-08)\n",
      "('t-stat Quality Level 8 & 9:', -1.7943761004694319, 'p-value', 0.074583953543583506)\n",
      "('t-stat Quality Level 9 & 10:', -1.5683658051930394, 'p-value', 0.12364986770824482)\n"
     ]
    }
   ],
   "source": [
    "tstat, pvalue = ttest_ind(cat1_0['AbvGroundLiv'], cat1_1['AbvGroundLiv'])\n",
    "print('t-stat Quality Level 1 & 2:', tstat , 'p-value', pvalue)\n",
    "\n",
    "tstat, pvalue = ttest_ind(cat1_1['AbvGroundLiv'], cat1['AbvGroundLiv'])\n",
    "print('t-stat Quality Level 2 & 3:', tstat , 'p-value', pvalue)\n",
    "\n",
    "tstat, pvalue = ttest_ind(cat1['AbvGroundLiv'], cat2['AbvGroundLiv'])\n",
    "print('t-stat Quality Level 3 & 4:', tstat , 'p-value', pvalue)\n",
    "\n",
    "tstat, pvalue = ttest_ind(cat2['AbvGroundLiv'], cat3['AbvGroundLiv'])\n",
    "print('t-stat Quality Level 4 & 5:', tstat , 'p-value', pvalue)\n",
    "\n",
    "tstat, pvalue = ttest_ind(cat3['AbvGroundLiv'], cat4['AbvGroundLiv'])\n",
    "print('t-stat Quality Level 4 & 5:', tstat , 'p-value', pvalue)\n",
    "\n",
    "tstat, pvalue = ttest_ind(cat4['AbvGroundLiv'], cat5['AbvGroundLiv'])\n",
    "print('t-stat Quality Level 5 & 6:', tstat , 'p-value', pvalue)\n",
    "\n",
    "tstat, pvalue = ttest_ind(cat5['AbvGroundLiv'], cat6['AbvGroundLiv'])\n",
    "print('t-stat Quality Level 6 & 7:', tstat , 'p-value', pvalue)\n",
    "\n",
    "tstat, pvalue = ttest_ind(cat6['AbvGroundLiv'], cat7['AbvGroundLiv'])\n",
    "print('t-stat Quality Level 8 & 9:', tstat , 'p-value', pvalue)\n",
    "\n",
    "tstat, pvalue = ttest_ind(cat7['AbvGroundLiv'], cat8['AbvGroundLiv'])\n",
    "print('t-stat Quality Level 9 & 10:', tstat , 'p-value', pvalue)\n",
    "\n",
    "#REJECT THE NULL HYPOTHESIS FOR AbvGroundLiv btw 1&2, 3&4, 8&9."
   ]
  },
  {
   "cell_type": "markdown",
   "metadata": {},
   "source": [
    "## HYPO TEST SALES PRICE  & PRICE ABV GROUND LIVING\n"
   ]
  },
  {
   "cell_type": "markdown",
   "metadata": {},
   "source": [
    "# SCATTER PLOTS COLORED BY NEIGHBORHOOD "
   ]
  },
  {
   "cell_type": "raw",
   "metadata": {
    "collapsed": false
   },
   "source": [
    "# WHEN LOOKING ONLY AT HOUSES WITH QUALITY LEVEL 10, We see there is NOT a strong \n",
    "#... correlation between price and Square Footage. There's a disconnect\n",
    "\n",
    "\n",
    "x2= cat8['AbvGroundLiv'] \n",
    "y2 = cat8['SalePrice']\n",
    "    \n",
    "fig, ax = plt.subplots()\n",
    "fit = np.polyfit(x2, y2, deg=1)\n",
    "ax.plot(x2, fit[0] * x2 + fit[1], color='red')\n",
    "ax.scatter(x2, y2)\n",
    "plt.xlabel(\"Above Ground Living Area\", fontsize=18)\n",
    "plt.ylabel('Sales Price', fontsize=16)\n",
    "fig.show()"
   ]
  },
  {
   "cell_type": "code",
   "execution_count": 80,
   "metadata": {
    "collapsed": false
   },
   "outputs": [
    {
     "data": {
      "text/html": [
       "<div>\n",
       "<table border=\"1\" class=\"dataframe\">\n",
       "  <thead>\n",
       "    <tr style=\"text-align: right;\">\n",
       "      <th></th>\n",
       "      <th>Id</th>\n",
       "      <th>Lot</th>\n",
       "      <th>Hood</th>\n",
       "      <th>BldgType</th>\n",
       "      <th>Style</th>\n",
       "      <th>Quality</th>\n",
       "      <th>Condition</th>\n",
       "      <th>YearBuilt</th>\n",
       "      <th>YearRemod</th>\n",
       "      <th>RoofStyle</th>\n",
       "      <th>...</th>\n",
       "      <th>YearSold</th>\n",
       "      <th>SalePrice</th>\n",
       "      <th>Center</th>\n",
       "      <th>North</th>\n",
       "      <th>East</th>\n",
       "      <th>West</th>\n",
       "      <th>South</th>\n",
       "      <th>NoRidge</th>\n",
       "      <th>Edwards</th>\n",
       "      <th>month_sold2</th>\n",
       "    </tr>\n",
       "  </thead>\n",
       "  <tbody>\n",
       "  </tbody>\n",
       "</table>\n",
       "<p>0 rows × 27 columns</p>\n",
       "</div>"
      ],
      "text/plain": [
       "Empty DataFrame\n",
       "Columns: [Id, Lot, Hood, BldgType, Style, Quality, Condition, YearBuilt, YearRemod, RoofStyle, RoofMatl, AbvGroundLiv, FullBath, HalfBath, BedroomAbvGr, KitchenAbvGr, MonthSold, YearSold, SalePrice, Center, North, East, West, South, NoRidge, Edwards, month_sold2]\n",
       "Index: []\n",
       "\n",
       "[0 rows x 27 columns]"
      ]
     },
     "execution_count": 80,
     "metadata": {},
     "output_type": "execute_result"
    }
   ],
   "source": [
    "# When We look at the most expensvie homes, the range in price is extraordinary.\n",
    "#... There are two homes in excess of 4000 sq feet under $200,000. \n",
    "#... thre are also two homes over 4000 sq feet over $700,000. What gives?\n",
    "#The lower priced homes are in the Edwards neighborhood while the \n",
    "#... higher priced homes are in the Edwards 'hood.\n",
    "\n",
    "BigHomes= cat8[cat8['AbvGroundLiv'] >= 4000]\n",
    "BigHomes"
   ]
  },
  {
   "cell_type": "code",
   "execution_count": 81,
   "metadata": {
    "collapsed": false
   },
   "outputs": [
    {
     "data": {
      "text/plain": [
       "Series([], Name: SalePrice, dtype: int64)"
      ]
     },
     "execution_count": 81,
     "metadata": {},
     "output_type": "execute_result"
    }
   ],
   "source": [
    "BigHomes[\"SalePrice\"]"
   ]
  },
  {
   "cell_type": "code",
   "execution_count": 82,
   "metadata": {
    "collapsed": false
   },
   "outputs": [
    {
     "name": "stdout",
     "output_type": "stream",
     "text": [
      "<class 'pandas.core.series.Series'>\n",
      "<class 'pandas.core.series.Series'>\n",
      "Id                 int64\n",
      "Lot                int64\n",
      "Hood              object\n",
      "BldgType          object\n",
      "Style             object\n",
      "Quality            int64\n",
      "Condition          int64\n",
      "YearBuilt          int64\n",
      "YearRemod          int64\n",
      "RoofStyle         object\n",
      "RoofMatl          object\n",
      "AbvGroundLiv       int64\n",
      "FullBath           int64\n",
      "HalfBath           int64\n",
      "BedroomAbvGr       int64\n",
      "KitchenAbvGr       int64\n",
      "MonthSold          int64\n",
      "YearSold           int64\n",
      "SalePrice          int64\n",
      "Center            object\n",
      "North             object\n",
      "East              object\n",
      "West              object\n",
      "South             object\n",
      "NoRidge           object\n",
      "Edwards           object\n",
      "month_sold2       object\n",
      "HoodCat         category\n",
      "dtype: object\n"
     ]
    }
   ],
   "source": [
    "## OOPS NEIGHBORHOOD WAS NEVER INCLUDED IN OUT CORRELATION MATRIX!\n",
    "## Let's Create a new Dummy Varianle\n",
    "\n",
    "df[\"HoodCat\"] = df[\"Hood\"].astype('category')\n",
    "df\n",
    "print type(df[\"HoodCat\"])\n",
    "print type(df['Hood'])\n",
    "\n",
    "print df.dtypes"
   ]
  },
  {
   "cell_type": "code",
   "execution_count": 83,
   "metadata": {
    "collapsed": false
   },
   "outputs": [
    {
     "data": {
      "text/plain": [
       "Id                 int64\n",
       "Lot                int64\n",
       "Hood              object\n",
       "BldgType          object\n",
       "Style             object\n",
       "Quality            int64\n",
       "Condition          int64\n",
       "YearBuilt          int64\n",
       "YearRemod          int64\n",
       "RoofStyle         object\n",
       "RoofMatl          object\n",
       "AbvGroundLiv       int64\n",
       "FullBath           int64\n",
       "HalfBath           int64\n",
       "BedroomAbvGr       int64\n",
       "KitchenAbvGr       int64\n",
       "MonthSold          int64\n",
       "YearSold           int64\n",
       "SalePrice          int64\n",
       "Center          category\n",
       "North           category\n",
       "East            category\n",
       "West            category\n",
       "South           category\n",
       "NoRidge           object\n",
       "Edwards           object\n",
       "month_sold2       object\n",
       "HoodCat         category\n",
       "dtype: object"
      ]
     },
     "execution_count": 83,
     "metadata": {},
     "output_type": "execute_result"
    }
   ],
   "source": [
    "df[\"East\"] = df[\"East\"].astype('category')\n",
    "df[\"West\"] = df['West'].astype('category')\n",
    "df[\"South\"] = df[\"South\"].astype('category')\n",
    "df[\"Center\"] = df[\"Center\"].astype('category')\n",
    "df[\"North\"] = df[\"North\"].astype('category')\n",
    "df.dtypes"
   ]
  },
  {
   "cell_type": "code",
   "execution_count": 84,
   "metadata": {
    "collapsed": false
   },
   "outputs": [
    {
     "data": {
      "image/png": "[encoded data removed]",
      "text/plain": [
       "<matplotlib.figure.Figure at 0x11b0b6710>"
      ]
     },
     "metadata": {},
     "output_type": "display_data"
    }
   ],
   "source": [
    "sns.heatmap(df.corr())\n",
    "plt.show()"
   ]
  },
  {
   "cell_type": "code",
   "execution_count": 85,
   "metadata": {
    "collapsed": false
   },
   "outputs": [
    {
     "name": "stdout",
     "output_type": "stream",
     "text": [
      "0    CollgCr\n",
      "1    Veenker\n",
      "2    CollgCr\n",
      "3    Crawfor\n",
      "4    NoRidge\n",
      "Name: Hood, dtype: object\n"
     ]
    }
   ],
   "source": [
    "print df['Hood'].head()"
   ]
  },
  {
   "cell_type": "code",
   "execution_count": 86,
   "metadata": {
    "collapsed": false
   },
   "outputs": [],
   "source": [
    "# print pd.pivot_table(df, index='Edwards_yes', values = 'SalePrice', aggfunc= (np.mean,np.std, len))\n"
   ]
  },
  {
   "cell_type": "code",
   "execution_count": 87,
   "metadata": {
    "collapsed": false
   },
   "outputs": [],
   "source": [
    "# print pd.pivot_table(df, index='NoRidge_yes', values = 'SalePrice', aggfunc= (np.mean,np.std, len))\n",
    "\n"
   ]
  },
  {
   "cell_type": "code",
   "execution_count": 88,
   "metadata": {
    "collapsed": false
   },
   "outputs": [],
   "source": [
    "# cw_lm=ols('NoRidge_yes ~ Edwards_yes', data=df).fit() #Specify C for Categorical\n",
    "# print(sm.stats.anova_lm(cw_lm, typ=2))"
   ]
  },
  {
   "cell_type": "code",
   "execution_count": 89,
   "metadata": {
    "collapsed": false
   },
   "outputs": [],
   "source": [
    "# cw_lm=ols('SalePrice ~ Hood', data=df).fit() #Specify C for Categorical\n",
    "# print(sm.stats.anova_lm(cw_lm, typ=2))"
   ]
  },
  {
   "cell_type": "code",
   "execution_count": 90,
   "metadata": {
    "collapsed": false
   },
   "outputs": [],
   "source": [
    "# print stats.f_oneway(df['Edwards_yes'],df[\"NoRidge_yes\"])\n"
   ]
  },
  {
   "cell_type": "code",
   "execution_count": 91,
   "metadata": {
    "collapsed": false
   },
   "outputs": [],
   "source": [
    "# North  = df[(df['Hood'] == 'NoRidge') | (df['Hood'] == 'Veenker') |(df['Hood'] == 'Somerst')| (df['Hood'] == 'NridgHt') | (df['Hood'] == 'NAmes')|\\\n",
    "# (df['Hood'] == 'Gilbert') | (df['Hood'] == 'StoneBr' ) |(df['Hood'] == 'ClearCr')|(df['Hood'] == 'Blmngtn' ) |(df['Hood'] =='BrDale')]\n",
    "\n",
    "# East = df[(df['Hood'] == 'Crawfor') | (df['Hood'] == 'OldTown' ) |(df['Hood'] == 'BrkSide')| (df['Hood'] == 'IDOTRR') | (df['Hood'] == 'Timber')]  \n",
    "\n",
    "# West = df[(df['Hood'] == 'NWAmes') | (df['Hood'] == 'Sawyer' ) |(df['Hood'] == 'SawyerW')| (df['Hood'] == 'Edwards') | (df['Hood'] == 'NPkVill')|(df['Hood'] == 'Blueste')]\n",
    "\n",
    "# South = df[(df['Hood'] == 'Mitchell') | (df['Hood'] == 'MeadowV' )]\n",
    "\n",
    "# Center = df[(df['Hood'] == 'SWISU')] "
   ]
  },
  {
   "cell_type": "code",
   "execution_count": 92,
   "metadata": {
    "collapsed": false
   },
   "outputs": [],
   "source": [
    "# df['Hood'].dtypes"
   ]
  },
  {
   "cell_type": "code",
   "execution_count": 93,
   "metadata": {
    "collapsed": false
   },
   "outputs": [],
   "source": [
    "## Transforming other Variables"
   ]
  },
  {
   "cell_type": "code",
   "execution_count": 94,
   "metadata": {
    "collapsed": false
   },
   "outputs": [
    {
     "data": {
      "text/plain": [
       "Id                 int64\n",
       "Lot                int64\n",
       "Hood              object\n",
       "BldgType          object\n",
       "Style             object\n",
       "Quality            int64\n",
       "Condition          int64\n",
       "YearBuilt          int64\n",
       "YearRemod          int64\n",
       "RoofStyle         object\n",
       "RoofMatl          object\n",
       "AbvGroundLiv       int64\n",
       "FullBath           int64\n",
       "HalfBath           int64\n",
       "BedroomAbvGr       int64\n",
       "KitchenAbvGr       int64\n",
       "MonthSold          int64\n",
       "YearSold           int64\n",
       "SalePrice          int64\n",
       "Center          category\n",
       "North           category\n",
       "East            category\n",
       "West            category\n",
       "South           category\n",
       "NoRidge           object\n",
       "Edwards           object\n",
       "month_sold2       object\n",
       "HoodCat         category\n",
       "dtype: object"
      ]
     },
     "execution_count": 94,
     "metadata": {},
     "output_type": "execute_result"
    }
   ],
   "source": [
    "df.dtypes"
   ]
  },
  {
   "cell_type": "code",
   "execution_count": 95,
   "metadata": {
    "collapsed": false
   },
   "outputs": [],
   "source": [
    "#Turn Objects into Categoricals\n",
    "df[\"BldgType_Cat\"] = df[\"BldgType\"].astype('category')\n",
    "df[\"Style_Cat\"] = df[\"Style\"].astype('category')\n",
    "df[\"RoofStyle_Cat\"] = df[\"RoofStyle\"].astype('category')\n",
    "df[\"RoofMatl_cat\"] = df[\"RoofMatl\"].astype('category')\n",
    "df[\"HoodCat\"] = df[\"Hood\"].astype('category')\n"
   ]
  },
  {
   "cell_type": "code",
   "execution_count": 96,
   "metadata": {
    "collapsed": false
   },
   "outputs": [],
   "source": [
    "# SK LEARN PRE-PROCESSING\n",
    "\n"
   ]
  },
  {
   "cell_type": "code",
   "execution_count": 97,
   "metadata": {
    "collapsed": false
   },
   "outputs": [],
   "source": [
    "# Encoding the variable\n",
    "# = df.apply(lambda x: d[\"HoodCat\"].fit_transform(\"HoodCat\"))\n",
    "\n",
    "# # Inverse the encoded\n",
    "# fit.apply(lambda x: d[x.name].inverse_transform(x))\n",
    "\n",
    "# # Using the dictionary to label future data\n",
    "# df.apply(lambda x: d[x.name].transform(x))"
   ]
  },
  {
   "cell_type": "code",
   "execution_count": 98,
   "metadata": {
    "collapsed": false
   },
   "outputs": [],
   "source": [
    "## Preprocessing\n",
    "\n",
    "#http://scikit-learn.org/stable/modules/generated/sklearn.preprocessing.LabelEncoder.html"
   ]
  },
  {
   "cell_type": "code",
   "execution_count": 99,
   "metadata": {
    "collapsed": true
   },
   "outputs": [],
   "source": [
    "from sklearn import preprocessing\n",
    "\n",
    "# separate the data and target attributes\n"
   ]
  },
  {
   "cell_type": "markdown",
   "metadata": {},
   "source": [
    "# FULL MODEL OLS "
   ]
  },
  {
   "cell_type": "code",
   "execution_count": 100,
   "metadata": {
    "collapsed": false
   },
   "outputs": [
    {
     "name": "stdout",
     "output_type": "stream",
     "text": [
      "Retrieving manually the parameter estimates:\n",
      "[ -3.13099192e+05   9.43414403e+03   2.15681937e+04   2.90123593e+04\n",
      "   2.52587565e+04   1.69830710e+04   2.03065731e+04  -1.90972312e+03\n",
      "   1.86276331e+04   1.85603465e+04   1.33753325e+04   6.34410763e+04\n",
      "   1.05158262e+05  -1.06657059e+04  -7.05684096e+03   1.86346363e+04\n",
      "   2.19655074e+04   4.82441730e+04   1.37774409e+05   4.37817481e+04\n",
      "   4.20508117e+04   1.76449476e+04   3.19787340e+03   6.68366699e+01\n",
      "  -6.76174113e+02   2.79677907e+02   1.40213044e+00  -1.10471475e+04\n",
      "  -3.13099192e+05  -8.16210076e+02]\n",
      "                            OLS Regression Results                            \n",
      "==============================================================================\n",
      "Dep. Variable:              SalePrice   R-squared:                       0.866\n",
      "Model:                            OLS   Adj. R-squared:                  0.861\n",
      "Method:                 Least Squares   F-statistic:                     206.7\n",
      "Date:                Thu, 16 Feb 2017   Prob (F-statistic):               0.00\n",
      "Time:                        10:46:29   Log-Likelihood:                -10879.\n",
      "No. Observations:                 927   AIC:                         2.182e+04\n",
      "Df Residuals:                     898   BIC:                         2.196e+04\n",
      "Df Model:                          28                                         \n",
      "Covariance Type:            nonrobust                                         \n",
      "======================================================================================\n",
      "                         coef    std err          t      P>|t|      [95.0% Conf. Int.]\n",
      "--------------------------------------------------------------------------------------\n",
      "Intercept          -3.131e+05   7.67e+04     -4.085      0.000     -4.64e+05 -1.63e+05\n",
      "HoodCat[T.BrkSide]  9434.1440   3.17e+04      0.297      0.766     -5.28e+04  7.17e+04\n",
      "HoodCat[T.ClearCr]  2.157e+04   3.25e+04      0.664      0.507     -4.21e+04  8.53e+04\n",
      "HoodCat[T.CollgCr]  2.901e+04   3.09e+04      0.938      0.349     -3.17e+04  8.97e+04\n",
      "HoodCat[T.Crawfor]  2.526e+04   3.17e+04      0.798      0.425     -3.69e+04  8.74e+04\n",
      "HoodCat[T.Edwards]  1.698e+04   3.13e+04      0.542      0.588     -4.45e+04  7.85e+04\n",
      "HoodCat[T.Gilbert]  2.031e+04   3.11e+04      0.653      0.514     -4.08e+04  8.14e+04\n",
      "HoodCat[T.IDOTRR]  -1909.7231   3.22e+04     -0.059      0.953      -6.5e+04  6.12e+04\n",
      "HoodCat[T.Mitchel]  1.863e+04   3.16e+04      0.590      0.556     -4.34e+04  8.06e+04\n",
      "HoodCat[T.NAmes]    1.856e+04   3.12e+04      0.595      0.552     -4.26e+04  7.97e+04\n",
      "HoodCat[T.NWAmes]   1.338e+04   3.12e+04      0.428      0.669     -4.79e+04  7.47e+04\n",
      "HoodCat[T.NoRidge]  6.344e+04   3.14e+04      2.018      0.044      1744.042  1.25e+05\n",
      "HoodCat[T.NridgHt]  1.052e+05   3.12e+04      3.370      0.001      4.39e+04  1.66e+05\n",
      "HoodCat[T.OldTown] -1.067e+04   3.14e+04     -0.340      0.734     -7.22e+04  5.09e+04\n",
      "HoodCat[T.SWISU]   -7056.8410   3.32e+04     -0.213      0.832     -7.22e+04  5.81e+04\n",
      "HoodCat[T.Sawyer]   1.863e+04   3.13e+04      0.595      0.552     -4.28e+04  8.01e+04\n",
      "HoodCat[T.SawyerW]  2.197e+04   3.12e+04      0.703      0.482     -3.93e+04  8.33e+04\n",
      "HoodCat[T.Somerst]  4.824e+04   3.11e+04      1.552      0.121     -1.28e+04  1.09e+05\n",
      "HoodCat[T.StoneBr]  1.378e+05   3.22e+04      4.284      0.000      7.47e+04  2.01e+05\n",
      "HoodCat[T.Timber]   4.378e+04   3.14e+04      1.393      0.164     -1.79e+04  1.05e+05\n",
      "HoodCat[T.Veenker]  4.205e+04   3.39e+04      1.239      0.216     -2.45e+04  1.09e+05\n",
      "Quality             1.764e+04   1375.472     12.828      0.000      1.49e+04  2.03e+04\n",
      "Condition           3197.8734   1201.899      2.661      0.008       839.016  5556.731\n",
      "AbvGroundLiv          66.8367      4.247     15.737      0.000        58.501    75.172\n",
      "FullBath            -676.1741   3715.719     -0.182      0.856     -7968.679  6616.331\n",
      "YearRemod            279.6779     77.233      3.621      0.000       128.100   431.256\n",
      "Lot                    1.4021      0.254      5.526      0.000         0.904     1.900\n",
      "HalfBath           -1.105e+04   2683.764     -4.116      0.000     -1.63e+04 -5779.967\n",
      "KitchenAbvGr       -3.131e+05   7.67e+04     -4.085      0.000     -4.64e+05 -1.63e+05\n",
      "MonthSold           -816.2101    376.849     -2.166      0.031     -1555.817   -76.604\n",
      "==============================================================================\n",
      "Omnibus:                      274.081   Durbin-Watson:                   1.995\n",
      "Prob(Omnibus):                  0.000   Jarque-Bera (JB):             2625.844\n",
      "Skew:                           1.062   Prob(JB):                         0.00\n",
      "Kurtosis:                      10.967   Cond. No.                     8.94e+15\n",
      "==============================================================================\n",
      "\n",
      "Warnings:\n",
      "[1] Standard Errors assume that the covariance matrix of the errors is correctly specified.\n",
      "[2] The smallest eigenvalue is 1.66e-21. This might indicate that there are\n",
      "strong multicollinearity problems or that the design matrix is singular.\n"
     ]
    }
   ],
   "source": [
    "# Full Model with One Categorical Neighborhood Variable\n",
    "import statsmodels.api as sm\n",
    "from statsmodels.formula.api import ols\n",
    "from sklearn import datasets, linear_model\n",
    "\n",
    "model = ols(\"SalePrice ~ Quality + Condition+ AbvGroundLiv + HoodCat + FullBath + YearRemod + Lot + BldgType + HalfBath + KitchenAbvGr + MonthSold\", df).fit()\n",
    "print(\"Retrieving manually the parameter estimates:\")\n",
    "print(model._results.params)\n",
    "print(model.summary())"
   ]
  },
  {
   "cell_type": "code",
   "execution_count": 130,
   "metadata": {
    "collapsed": false
   },
   "outputs": [
    {
     "name": "stdout",
     "output_type": "stream",
     "text": [
      "Retrieving manually the parameter estimates:\n",
      "[ 159895.          -56529.375        53368.63636364   44701.01492537\n",
      "   48884.56666667  -30876.37254902   35962.22857143  -66131.21428571\n",
      "   -8349.          -14924.66666667   31915.52631579  152324.13513514\n",
      "  191734.41818182  -40466.4         -32323.57142857  -24120.31481481\n",
      "   39068.80952381   88028.40677966  233372.30769231   89465.44827586\n",
      "   44305.        ]\n",
      "                            OLS Regression Results                            \n",
      "==============================================================================\n",
      "Dep. Variable:              SalePrice   R-squared:                       0.659\n",
      "Model:                            OLS   Adj. R-squared:                  0.652\n",
      "Method:                 Least Squares   F-statistic:                     87.73\n",
      "Date:                Thu, 16 Feb 2017   Prob (F-statistic):          6.67e-196\n",
      "Time:                        13:31:12   Log-Likelihood:                -11310.\n",
      "No. Observations:                 927   AIC:                         2.266e+04\n",
      "Df Residuals:                     906   BIC:                         2.276e+04\n",
      "Df Model:                          20                                         \n",
      "Covariance Type:            nonrobust                                         \n",
      "======================================================================================\n",
      "                         coef    std err          t      P>|t|      [95.0% Conf. Int.]\n",
      "--------------------------------------------------------------------------------------\n",
      "Intercept           1.599e+05   4.87e+04      3.283      0.001      6.43e+04  2.55e+05\n",
      "HoodCat[T.BrkSide] -5.653e+04   4.97e+04     -1.137      0.256     -1.54e+05   4.1e+04\n",
      "HoodCat[T.ClearCr]  5.337e+04   5.09e+04      1.049      0.294     -4.65e+04  1.53e+05\n",
      "HoodCat[T.CollgCr]   4.47e+04   4.89e+04      0.914      0.361     -5.12e+04  1.41e+05\n",
      "HoodCat[T.Crawfor]  4.888e+04   4.95e+04      0.987      0.324     -4.83e+04  1.46e+05\n",
      "HoodCat[T.Edwards] -3.088e+04   4.92e+04     -0.628      0.530     -1.27e+05  6.56e+04\n",
      "HoodCat[T.Gilbert]  3.596e+04    4.9e+04      0.733      0.464     -6.03e+04  1.32e+05\n",
      "HoodCat[T.IDOTRR]  -6.613e+04   5.04e+04     -1.312      0.190     -1.65e+05  3.28e+04\n",
      "HoodCat[T.Mitchel] -8349.0000   4.97e+04     -0.168      0.867     -1.06e+05  8.91e+04\n",
      "HoodCat[T.NAmes]   -1.492e+04   4.89e+04     -0.306      0.760     -1.11e+05   8.1e+04\n",
      "HoodCat[T.NWAmes]   3.192e+04   4.91e+04      0.650      0.516     -6.45e+04  1.28e+05\n",
      "HoodCat[T.NoRidge]  1.523e+05   4.94e+04      3.086      0.002      5.55e+04  2.49e+05\n",
      "HoodCat[T.NridgHt]  1.917e+05   4.91e+04      3.902      0.000      9.53e+04  2.88e+05\n",
      "HoodCat[T.OldTown] -4.047e+04   4.92e+04     -0.823      0.411     -1.37e+05  5.61e+04\n",
      "HoodCat[T.SWISU]   -3.232e+04   5.21e+04     -0.621      0.535     -1.35e+05  6.99e+04\n",
      "HoodCat[T.Sawyer]  -2.412e+04   4.91e+04     -0.491      0.624     -1.21e+05  7.23e+04\n",
      "HoodCat[T.SawyerW]  3.907e+04   4.93e+04      0.793      0.428     -5.76e+04  1.36e+05\n",
      "HoodCat[T.Somerst]  8.803e+04   4.91e+04      1.792      0.073     -8356.448  1.84e+05\n",
      "HoodCat[T.StoneBr]  2.334e+05   5.05e+04      4.618      0.000      1.34e+05  3.33e+05\n",
      "HoodCat[T.Timber]   8.947e+04   4.95e+04      1.806      0.071     -7746.759  1.87e+05\n",
      "HoodCat[T.Veenker]  4.431e+04   5.33e+04      0.830      0.406     -6.04e+04  1.49e+05\n",
      "==============================================================================\n",
      "Omnibus:                      255.943   Durbin-Watson:                   2.046\n",
      "Prob(Omnibus):                  0.000   Jarque-Bera (JB):             1118.560\n",
      "Skew:                           1.222   Prob(JB):                    1.28e-243\n",
      "Kurtosis:                       7.794   Cond. No.                         146.\n",
      "==============================================================================\n",
      "\n",
      "Warnings:\n",
      "[1] Standard Errors assume that the covariance matrix of the errors is correctly specified.\n"
     ]
    }
   ],
   "source": [
    "#Running Model with Only Neighborhoods: Adjusted R2 of .652\n",
    "\n",
    "modelHoods = ols(\"SalePrice ~ HoodCat\", df).fit()\n",
    "print(\"Retrieving manually the parameter estimates:\")\n",
    "print(modelHoods._results.params)\n",
    "print(modelHoods.summary())"
   ]
  },
  {
   "cell_type": "code",
   "execution_count": 101,
   "metadata": {
    "collapsed": false
   },
   "outputs": [
    {
     "ename": "ValueError",
     "evalue": "Pandas data cast to numpy dtype of object. Check input data with np.asarray(data).",
     "output_type": "error",
     "traceback": [
      "\u001b[0;31m---------------------------------------------------------------------------\u001b[0m",
      "\u001b[0;31mValueError\u001b[0m                                Traceback (most recent call last)",
      "\u001b[0;32m<ipython-input-101-6a3b2599d4b6>\u001b[0m in \u001b[0;36m<module>\u001b[0;34m()\u001b[0m\n\u001b[1;32m      4\u001b[0m \u001b[0;31m## fit a OLS model with intercept on TV and Radio\u001b[0m\u001b[0;34m\u001b[0m\u001b[0;34m\u001b[0m\u001b[0m\n\u001b[1;32m      5\u001b[0m \u001b[0mXs\u001b[0m \u001b[0;34m=\u001b[0m \u001b[0msm\u001b[0m\u001b[0;34m.\u001b[0m\u001b[0madd_constant\u001b[0m\u001b[0;34m(\u001b[0m\u001b[0mxs\u001b[0m\u001b[0;34m)\u001b[0m\u001b[0;34m\u001b[0m\u001b[0m\n\u001b[0;32m----> 6\u001b[0;31m \u001b[0mest\u001b[0m \u001b[0;34m=\u001b[0m \u001b[0msm\u001b[0m\u001b[0;34m.\u001b[0m\u001b[0mOLS\u001b[0m\u001b[0;34m(\u001b[0m\u001b[0mys\u001b[0m\u001b[0;34m,\u001b[0m \u001b[0mXs\u001b[0m\u001b[0;34m)\u001b[0m\u001b[0;34m.\u001b[0m\u001b[0mfit\u001b[0m\u001b[0;34m(\u001b[0m\u001b[0;34m)\u001b[0m\u001b[0;34m\u001b[0m\u001b[0m\n\u001b[0m",
      "\u001b[0;32m//anaconda/lib/python2.7/site-packages/statsmodels/regression/linear_model.pyc\u001b[0m in \u001b[0;36m__init__\u001b[0;34m(self, endog, exog, missing, hasconst, **kwargs)\u001b[0m\n\u001b[1;32m    689\u001b[0m                  **kwargs):\n\u001b[1;32m    690\u001b[0m         super(OLS, self).__init__(endog, exog, missing=missing,\n\u001b[0;32m--> 691\u001b[0;31m                                   hasconst=hasconst, **kwargs)\n\u001b[0m\u001b[1;32m    692\u001b[0m         \u001b[0;32mif\u001b[0m \u001b[0;34m\"weights\"\u001b[0m \u001b[0;32min\u001b[0m \u001b[0mself\u001b[0m\u001b[0;34m.\u001b[0m\u001b[0m_init_keys\u001b[0m\u001b[0;34m:\u001b[0m\u001b[0;34m\u001b[0m\u001b[0m\n\u001b[1;32m    693\u001b[0m             \u001b[0mself\u001b[0m\u001b[0;34m.\u001b[0m\u001b[0m_init_keys\u001b[0m\u001b[0;34m.\u001b[0m\u001b[0mremove\u001b[0m\u001b[0;34m(\u001b[0m\u001b[0;34m\"weights\"\u001b[0m\u001b[0;34m)\u001b[0m\u001b[0;34m\u001b[0m\u001b[0m\n",
      "\u001b[0;32m//anaconda/lib/python2.7/site-packages/statsmodels/regression/linear_model.pyc\u001b[0m in \u001b[0;36m__init__\u001b[0;34m(self, endog, exog, weights, missing, hasconst, **kwargs)\u001b[0m\n\u001b[1;32m    584\u001b[0m             \u001b[0mweights\u001b[0m \u001b[0;34m=\u001b[0m \u001b[0mweights\u001b[0m\u001b[0;34m.\u001b[0m\u001b[0msqueeze\u001b[0m\u001b[0;34m(\u001b[0m\u001b[0;34m)\u001b[0m\u001b[0;34m\u001b[0m\u001b[0m\n\u001b[1;32m    585\u001b[0m         super(WLS, self).__init__(endog, exog, missing=missing,\n\u001b[0;32m--> 586\u001b[0;31m                                   weights=weights, hasconst=hasconst, **kwargs)\n\u001b[0m\u001b[1;32m    587\u001b[0m         \u001b[0mnobs\u001b[0m \u001b[0;34m=\u001b[0m \u001b[0mself\u001b[0m\u001b[0;34m.\u001b[0m\u001b[0mexog\u001b[0m\u001b[0;34m.\u001b[0m\u001b[0mshape\u001b[0m\u001b[0;34m[\u001b[0m\u001b[0;36m0\u001b[0m\u001b[0;34m]\u001b[0m\u001b[0;34m\u001b[0m\u001b[0m\n\u001b[1;32m    588\u001b[0m         \u001b[0mweights\u001b[0m \u001b[0;34m=\u001b[0m \u001b[0mself\u001b[0m\u001b[0;34m.\u001b[0m\u001b[0mweights\u001b[0m\u001b[0;34m\u001b[0m\u001b[0m\n",
      "\u001b[0;32m//anaconda/lib/python2.7/site-packages/statsmodels/regression/linear_model.pyc\u001b[0m in \u001b[0;36m__init__\u001b[0;34m(self, endog, exog, **kwargs)\u001b[0m\n\u001b[1;32m     89\u001b[0m     \"\"\"\n\u001b[1;32m     90\u001b[0m     \u001b[0;32mdef\u001b[0m \u001b[0m__init__\u001b[0m\u001b[0;34m(\u001b[0m\u001b[0mself\u001b[0m\u001b[0;34m,\u001b[0m \u001b[0mendog\u001b[0m\u001b[0;34m,\u001b[0m \u001b[0mexog\u001b[0m\u001b[0;34m,\u001b[0m \u001b[0;34m**\u001b[0m\u001b[0mkwargs\u001b[0m\u001b[0;34m)\u001b[0m\u001b[0;34m:\u001b[0m\u001b[0;34m\u001b[0m\u001b[0m\n\u001b[0;32m---> 91\u001b[0;31m         \u001b[0msuper\u001b[0m\u001b[0;34m(\u001b[0m\u001b[0mRegressionModel\u001b[0m\u001b[0;34m,\u001b[0m \u001b[0mself\u001b[0m\u001b[0;34m)\u001b[0m\u001b[0;34m.\u001b[0m\u001b[0m__init__\u001b[0m\u001b[0;34m(\u001b[0m\u001b[0mendog\u001b[0m\u001b[0;34m,\u001b[0m \u001b[0mexog\u001b[0m\u001b[0;34m,\u001b[0m \u001b[0;34m**\u001b[0m\u001b[0mkwargs\u001b[0m\u001b[0;34m)\u001b[0m\u001b[0;34m\u001b[0m\u001b[0m\n\u001b[0m\u001b[1;32m     92\u001b[0m         \u001b[0mself\u001b[0m\u001b[0;34m.\u001b[0m\u001b[0m_data_attr\u001b[0m\u001b[0;34m.\u001b[0m\u001b[0mextend\u001b[0m\u001b[0;34m(\u001b[0m\u001b[0;34m[\u001b[0m\u001b[0;34m'pinv_wexog'\u001b[0m\u001b[0;34m,\u001b[0m \u001b[0;34m'wendog'\u001b[0m\u001b[0;34m,\u001b[0m \u001b[0;34m'wexog'\u001b[0m\u001b[0;34m,\u001b[0m \u001b[0;34m'weights'\u001b[0m\u001b[0;34m]\u001b[0m\u001b[0;34m)\u001b[0m\u001b[0;34m\u001b[0m\u001b[0m\n\u001b[1;32m     93\u001b[0m \u001b[0;34m\u001b[0m\u001b[0m\n",
      "\u001b[0;32m//anaconda/lib/python2.7/site-packages/statsmodels/base/model.pyc\u001b[0m in \u001b[0;36m__init__\u001b[0;34m(self, endog, exog, **kwargs)\u001b[0m\n\u001b[1;32m    184\u001b[0m \u001b[0;34m\u001b[0m\u001b[0m\n\u001b[1;32m    185\u001b[0m     \u001b[0;32mdef\u001b[0m \u001b[0m__init__\u001b[0m\u001b[0;34m(\u001b[0m\u001b[0mself\u001b[0m\u001b[0;34m,\u001b[0m \u001b[0mendog\u001b[0m\u001b[0;34m,\u001b[0m \u001b[0mexog\u001b[0m\u001b[0;34m=\u001b[0m\u001b[0mNone\u001b[0m\u001b[0;34m,\u001b[0m \u001b[0;34m**\u001b[0m\u001b[0mkwargs\u001b[0m\u001b[0;34m)\u001b[0m\u001b[0;34m:\u001b[0m\u001b[0;34m\u001b[0m\u001b[0m\n\u001b[0;32m--> 186\u001b[0;31m         \u001b[0msuper\u001b[0m\u001b[0;34m(\u001b[0m\u001b[0mLikelihoodModel\u001b[0m\u001b[0;34m,\u001b[0m \u001b[0mself\u001b[0m\u001b[0;34m)\u001b[0m\u001b[0;34m.\u001b[0m\u001b[0m__init__\u001b[0m\u001b[0;34m(\u001b[0m\u001b[0mendog\u001b[0m\u001b[0;34m,\u001b[0m \u001b[0mexog\u001b[0m\u001b[0;34m,\u001b[0m \u001b[0;34m**\u001b[0m\u001b[0mkwargs\u001b[0m\u001b[0;34m)\u001b[0m\u001b[0;34m\u001b[0m\u001b[0m\n\u001b[0m\u001b[1;32m    187\u001b[0m         \u001b[0mself\u001b[0m\u001b[0;34m.\u001b[0m\u001b[0minitialize\u001b[0m\u001b[0;34m(\u001b[0m\u001b[0;34m)\u001b[0m\u001b[0;34m\u001b[0m\u001b[0m\n\u001b[1;32m    188\u001b[0m \u001b[0;34m\u001b[0m\u001b[0m\n",
      "\u001b[0;32m//anaconda/lib/python2.7/site-packages/statsmodels/base/model.pyc\u001b[0m in \u001b[0;36m__init__\u001b[0;34m(self, endog, exog, **kwargs)\u001b[0m\n\u001b[1;32m     58\u001b[0m         \u001b[0mhasconst\u001b[0m \u001b[0;34m=\u001b[0m \u001b[0mkwargs\u001b[0m\u001b[0;34m.\u001b[0m\u001b[0mpop\u001b[0m\u001b[0;34m(\u001b[0m\u001b[0;34m'hasconst'\u001b[0m\u001b[0;34m,\u001b[0m \u001b[0mNone\u001b[0m\u001b[0;34m)\u001b[0m\u001b[0;34m\u001b[0m\u001b[0m\n\u001b[1;32m     59\u001b[0m         self.data = self._handle_data(endog, exog, missing, hasconst,\n\u001b[0;32m---> 60\u001b[0;31m                                       **kwargs)\n\u001b[0m\u001b[1;32m     61\u001b[0m         \u001b[0mself\u001b[0m\u001b[0;34m.\u001b[0m\u001b[0mk_constant\u001b[0m \u001b[0;34m=\u001b[0m \u001b[0mself\u001b[0m\u001b[0;34m.\u001b[0m\u001b[0mdata\u001b[0m\u001b[0;34m.\u001b[0m\u001b[0mk_constant\u001b[0m\u001b[0;34m\u001b[0m\u001b[0m\n\u001b[1;32m     62\u001b[0m         \u001b[0mself\u001b[0m\u001b[0;34m.\u001b[0m\u001b[0mexog\u001b[0m \u001b[0;34m=\u001b[0m \u001b[0mself\u001b[0m\u001b[0;34m.\u001b[0m\u001b[0mdata\u001b[0m\u001b[0;34m.\u001b[0m\u001b[0mexog\u001b[0m\u001b[0;34m\u001b[0m\u001b[0m\n",
      "\u001b[0;32m//anaconda/lib/python2.7/site-packages/statsmodels/base/model.pyc\u001b[0m in \u001b[0;36m_handle_data\u001b[0;34m(self, endog, exog, missing, hasconst, **kwargs)\u001b[0m\n\u001b[1;32m     82\u001b[0m \u001b[0;34m\u001b[0m\u001b[0m\n\u001b[1;32m     83\u001b[0m     \u001b[0;32mdef\u001b[0m \u001b[0m_handle_data\u001b[0m\u001b[0;34m(\u001b[0m\u001b[0mself\u001b[0m\u001b[0;34m,\u001b[0m \u001b[0mendog\u001b[0m\u001b[0;34m,\u001b[0m \u001b[0mexog\u001b[0m\u001b[0;34m,\u001b[0m \u001b[0mmissing\u001b[0m\u001b[0;34m,\u001b[0m \u001b[0mhasconst\u001b[0m\u001b[0;34m,\u001b[0m \u001b[0;34m**\u001b[0m\u001b[0mkwargs\u001b[0m\u001b[0;34m)\u001b[0m\u001b[0;34m:\u001b[0m\u001b[0;34m\u001b[0m\u001b[0m\n\u001b[0;32m---> 84\u001b[0;31m         \u001b[0mdata\u001b[0m \u001b[0;34m=\u001b[0m \u001b[0mhandle_data\u001b[0m\u001b[0;34m(\u001b[0m\u001b[0mendog\u001b[0m\u001b[0;34m,\u001b[0m \u001b[0mexog\u001b[0m\u001b[0;34m,\u001b[0m \u001b[0mmissing\u001b[0m\u001b[0;34m,\u001b[0m \u001b[0mhasconst\u001b[0m\u001b[0;34m,\u001b[0m \u001b[0;34m**\u001b[0m\u001b[0mkwargs\u001b[0m\u001b[0;34m)\u001b[0m\u001b[0;34m\u001b[0m\u001b[0m\n\u001b[0m\u001b[1;32m     85\u001b[0m         \u001b[0;31m# kwargs arrays could have changed, easier to just attach here\u001b[0m\u001b[0;34m\u001b[0m\u001b[0;34m\u001b[0m\u001b[0m\n\u001b[1;32m     86\u001b[0m         \u001b[0;32mfor\u001b[0m \u001b[0mkey\u001b[0m \u001b[0;32min\u001b[0m \u001b[0mkwargs\u001b[0m\u001b[0;34m:\u001b[0m\u001b[0;34m\u001b[0m\u001b[0m\n",
      "\u001b[0;32m//anaconda/lib/python2.7/site-packages/statsmodels/base/data.pyc\u001b[0m in \u001b[0;36mhandle_data\u001b[0;34m(endog, exog, missing, hasconst, **kwargs)\u001b[0m\n\u001b[1;32m    564\u001b[0m     \u001b[0mklass\u001b[0m \u001b[0;34m=\u001b[0m \u001b[0mhandle_data_class_factory\u001b[0m\u001b[0;34m(\u001b[0m\u001b[0mendog\u001b[0m\u001b[0;34m,\u001b[0m \u001b[0mexog\u001b[0m\u001b[0;34m)\u001b[0m\u001b[0;34m\u001b[0m\u001b[0m\n\u001b[1;32m    565\u001b[0m     return klass(endog, exog=exog, missing=missing, hasconst=hasconst,\n\u001b[0;32m--> 566\u001b[0;31m                  **kwargs)\n\u001b[0m",
      "\u001b[0;32m//anaconda/lib/python2.7/site-packages/statsmodels/base/data.pyc\u001b[0m in \u001b[0;36m__init__\u001b[0;34m(self, endog, exog, missing, hasconst, **kwargs)\u001b[0m\n\u001b[1;32m     70\u001b[0m             \u001b[0mself\u001b[0m\u001b[0;34m.\u001b[0m\u001b[0morig_endog\u001b[0m \u001b[0;34m=\u001b[0m \u001b[0mendog\u001b[0m\u001b[0;34m\u001b[0m\u001b[0m\n\u001b[1;32m     71\u001b[0m             \u001b[0mself\u001b[0m\u001b[0;34m.\u001b[0m\u001b[0morig_exog\u001b[0m \u001b[0;34m=\u001b[0m \u001b[0mexog\u001b[0m\u001b[0;34m\u001b[0m\u001b[0m\n\u001b[0;32m---> 72\u001b[0;31m             \u001b[0mself\u001b[0m\u001b[0;34m.\u001b[0m\u001b[0mendog\u001b[0m\u001b[0;34m,\u001b[0m \u001b[0mself\u001b[0m\u001b[0;34m.\u001b[0m\u001b[0mexog\u001b[0m \u001b[0;34m=\u001b[0m \u001b[0mself\u001b[0m\u001b[0;34m.\u001b[0m\u001b[0m_convert_endog_exog\u001b[0m\u001b[0;34m(\u001b[0m\u001b[0mendog\u001b[0m\u001b[0;34m,\u001b[0m \u001b[0mexog\u001b[0m\u001b[0;34m)\u001b[0m\u001b[0;34m\u001b[0m\u001b[0m\n\u001b[0m\u001b[1;32m     73\u001b[0m \u001b[0;34m\u001b[0m\u001b[0m\n\u001b[1;32m     74\u001b[0m         \u001b[0;31m# this has side-effects, attaches k_constant and const_idx\u001b[0m\u001b[0;34m\u001b[0m\u001b[0;34m\u001b[0m\u001b[0m\n",
      "\u001b[0;32m//anaconda/lib/python2.7/site-packages/statsmodels/base/data.pyc\u001b[0m in \u001b[0;36m_convert_endog_exog\u001b[0;34m(self, endog, exog)\u001b[0m\n\u001b[1;32m    426\u001b[0m         \u001b[0mexog\u001b[0m \u001b[0;34m=\u001b[0m \u001b[0mexog\u001b[0m \u001b[0;32mif\u001b[0m \u001b[0mexog\u001b[0m \u001b[0;32mis\u001b[0m \u001b[0mNone\u001b[0m \u001b[0;32melse\u001b[0m \u001b[0mnp\u001b[0m\u001b[0;34m.\u001b[0m\u001b[0masarray\u001b[0m\u001b[0;34m(\u001b[0m\u001b[0mexog\u001b[0m\u001b[0;34m)\u001b[0m\u001b[0;34m\u001b[0m\u001b[0m\n\u001b[1;32m    427\u001b[0m         \u001b[0;32mif\u001b[0m \u001b[0mendog\u001b[0m\u001b[0;34m.\u001b[0m\u001b[0mdtype\u001b[0m \u001b[0;34m==\u001b[0m \u001b[0mobject\u001b[0m \u001b[0;32mor\u001b[0m \u001b[0mexog\u001b[0m \u001b[0;32mis\u001b[0m \u001b[0;32mnot\u001b[0m \u001b[0mNone\u001b[0m \u001b[0;32mand\u001b[0m \u001b[0mexog\u001b[0m\u001b[0;34m.\u001b[0m\u001b[0mdtype\u001b[0m \u001b[0;34m==\u001b[0m \u001b[0mobject\u001b[0m\u001b[0;34m:\u001b[0m\u001b[0;34m\u001b[0m\u001b[0m\n\u001b[0;32m--> 428\u001b[0;31m             raise ValueError(\"Pandas data cast to numpy dtype of object. \"\n\u001b[0m\u001b[1;32m    429\u001b[0m                              \"Check input data with np.asarray(data).\")\n\u001b[1;32m    430\u001b[0m         \u001b[0;32mreturn\u001b[0m \u001b[0msuper\u001b[0m\u001b[0;34m(\u001b[0m\u001b[0mPandasData\u001b[0m\u001b[0;34m,\u001b[0m \u001b[0mself\u001b[0m\u001b[0;34m)\u001b[0m\u001b[0;34m.\u001b[0m\u001b[0m_convert_endog_exog\u001b[0m\u001b[0;34m(\u001b[0m\u001b[0mendog\u001b[0m\u001b[0;34m,\u001b[0m \u001b[0mexog\u001b[0m\u001b[0;34m)\u001b[0m\u001b[0;34m\u001b[0m\u001b[0m\n",
      "\u001b[0;31mValueError\u001b[0m: Pandas data cast to numpy dtype of object. Check input data with np.asarray(data)."
     ]
    }
   ],
   "source": [
    "xs = df[['Quality', 'Condition', 'AbvGroundLiv', 'FullBath', 'YearRemod', 'Lot', 'BldgType', 'HalfBath', 'KitchenAbvGr', 'MonthSold']]\n",
    "ys = df[['SalePrice']]\n",
    "\n",
    "## fit a OLS model with intercept on TV and Radio\n",
    "Xs = sm.add_constant(xs)\n",
    "est = sm.OLS(ys, Xs).fit()\n"
   ]
  },
  {
   "cell_type": "code",
   "execution_count": null,
   "metadata": {
    "collapsed": false
   },
   "outputs": [],
   "source": [
    "#Running Model without Neighborhoods: Drop in Adj. R^2\n",
    "\n",
    "modelNo_Hood = ols(\"SalePrice ~ Quality + Condition+ AbvGroundLiv + FullBath + YearRemod + Lot + BldgType + HalfBath + KitchenAbvGr + MonthSold\", df).fit()\n",
    "print(\"Retrieving manually the parameter estimates:\")\n",
    "print(modelNo_Hood._results.params)\n",
    "print(modelNo_Hood.summary())"
   ]
  },
  {
   "cell_type": "code",
   "execution_count": null,
   "metadata": {
    "collapsed": false
   },
   "outputs": [],
   "source": [
    "plt.scatter(df[\"SalePRice\", modelNo_Hood._results.resid_)"
   ]
  },
  {
   "cell_type": "code",
   "execution_count": null,
   "metadata": {
    "collapsed": true
   },
   "outputs": [],
   "source": [
    "# create a figure\n",
    "fig = plt.figure(figsize=(15,7))\n",
    "fig.set_figheight(8)\n",
    "fig.set_figwidth(15)\n",
    "\n",
    "# get the axis\n",
    "ax = fig.gca()\n",
    "\n",
    "# plot it\n",
    "ax.scatter(x=df['X'], y=df['Y'], c='k')\n",
    "ax.plot(df['X'], df['OLS_Yhat'], color='k');\n",
    "\n",
    "# iterate over predictions\n",
    "for _, row in df.iterrows():\n",
    "    plt.plot((row['X'], row['X']), (row['Y'], row['OLS_Yhat']), 'r-')"
   ]
  },
  {
   "cell_type": "code",
   "execution_count": null,
   "metadata": {
    "collapsed": false
   },
   "outputs": [],
   "source": [
    "fig, ax = plt.subplots()\n",
    "fig = sm.graphics.plot_fit(modelNo_Hood._results, 6, ax=ax)\n",
    "ax.set_ylabel(\"Sale Price\")\n",
    "ax.set_xlabel(\"Full Model\")\n",
    "ax.set_title(\"Sale PriceLinear Regression\")"
   ]
  },
  {
   "cell_type": "code",
   "execution_count": null,
   "metadata": {
    "collapsed": false
   },
   "outputs": [],
   "source": [
    "#Creating New Neightborhood Variable with Only Statistially significant Neighborhood Variables\n",
    "df = pd.concat([df, pd.get_dummies(df[['HoodCat']], drop_first=True)], axis=1)\n"
   ]
  },
  {
   "cell_type": "code",
   "execution_count": null,
   "metadata": {
    "collapsed": false
   },
   "outputs": [],
   "source": [
    "df.columns"
   ]
  },
  {
   "cell_type": "code",
   "execution_count": null,
   "metadata": {
    "collapsed": false
   },
   "outputs": [],
   "source": [
    "#Rerunning Full Model With Neighborhood Dummies .862 Adj R^2\n",
    "\n",
    "model = ols(\"SalePrice ~ Quality + Condition+ AbvGroundLiv + \\\n",
    "FullBath + YearRemod + Lot + BldgType + HalfBath + KitchenAbvGr + MonthSold +HoodCat_ClearCr+ \\\n",
    "HoodCat_CollgCr + HoodCat_Crawfor + HoodCat_Edwards + HoodCat_Gilbert+\\\n",
    "HoodCat_IDOTRR + HoodCat_Mitchel + HoodCat_NAmes + HoodCat_NWAmes + HoodCat_NoRidge+ \\\n",
    "HoodCat_NridgHt + HoodCat_OldTown + HoodCat_SWISU + HoodCat_Sawyer+ \\\n",
    "HoodCat_SawyerW + HoodCat_Somerst + HoodCat_StoneBr + \\\n",
    "HoodCat_Timber + HoodCat_Veenker\", df).fit()\n",
    "print(\"Retrieving manually the parameter estimates:\")\n",
    "print(model._results.params)\n",
    "print(model.summary())"
   ]
  },
  {
   "cell_type": "code",
   "execution_count": null,
   "metadata": {
    "collapsed": false
   },
   "outputs": [],
   "source": [
    "## Modified Full Model without Full Bath-- No Improvment in R-Sq.\n",
    "\n",
    "model_NoBath = ols(\"SalePrice ~ Quality + Condition+ AbvGroundLiv + \\\n",
    "YearRemod + Lot + BldgType + HalfBath + KitchenAbvGr + MonthSold +HoodCat_ClearCr+ \\\n",
    "HoodCat_CollgCr + HoodCat_Crawfor + HoodCat_Edwards + HoodCat_Gilbert+\\\n",
    "HoodCat_IDOTRR + HoodCat_Mitchel + HoodCat_NAmes + HoodCat_NWAmes + HoodCat_NoRidge+ \\\n",
    "HoodCat_NridgHt + HoodCat_OldTown + HoodCat_SWISU + HoodCat_Sawyer+ \\\n",
    "HoodCat_SawyerW + HoodCat_Somerst + HoodCat_StoneBr + \\\n",
    "HoodCat_Timber + HoodCat_Veenker\", df).fit()\n",
    "print(\"Retrieving manually the parameter estimates:\")\n",
    "print(model_NoBath._results.params)\n",
    "print(model_NoBath.summary())"
   ]
  },
  {
   "cell_type": "markdown",
   "metadata": {},
   "source": [
    "### III. SKLEARN Regression Using Quality and Above Ground Living Area"
   ]
  },
  {
   "cell_type": "code",
   "execution_count": null,
   "metadata": {
    "collapsed": true
   },
   "outputs": [],
   "source": [
    "from sklearn.linear_model import LinearRegression"
   ]
  },
  {
   "cell_type": "code",
   "execution_count": null,
   "metadata": {
    "collapsed": false
   },
   "outputs": [],
   "source": [
    "# variables = ['HoodCat', 'BldgType_Cat', 'Style_Cat', 'RoofStyle_Cat', 'RoofMatl_cat']\n",
    "\n",
    "# for area in areas:\n",
    "#     df = pd.concat([df, pd.get_dummies(df[variables], drop_first=True)], axis=1)\n"
   ]
  },
  {
   "cell_type": "code",
   "execution_count": null,
   "metadata": {
    "collapsed": false
   },
   "outputs": [],
   "source": [
    "df.columns"
   ]
  },
  {
   "cell_type": "code",
   "execution_count": null,
   "metadata": {
    "collapsed": false
   },
   "outputs": [],
   "source": [
    "lm = LinearRegression(normalize = True)\n",
    "\n",
    "Xs = df[['YearBuilt', 'YearRemod']]\n",
    "ys = df[['SalePrice']]\n",
    "\n",
    "lm.fit(Xs,ys)"
   ]
  },
  {
   "cell_type": "markdown",
   "metadata": {},
   "source": [
    "## FULL MODEL "
   ]
  },
  {
   "cell_type": "code",
   "execution_count": null,
   "metadata": {
    "collapsed": false
   },
   "outputs": [],
   "source": [
    "lmf = LinearRegression(normalize = True)\n",
    "\n",
    "Xfull = df[['Quality','AbvGroundLiv','FullBath','NoRidge_yes', 'NoRidge_yes', \\\n",
    "            'HoodCat_BrkSide', 'HoodCat_ClearCr',\\\n",
    "            'HoodCat_CollgCr', u'HoodCat_Crawfor', u'HoodCat_Edwards',\\\n",
    "            'HoodCat_Gilbert', u'HoodCat_IDOTRR', u'HoodCat_Mitchel',\\\n",
    "            'HoodCat_NAmes', 'HoodCat_NWAmes', 'HoodCat_NoRidge',\\\n",
    "            'HoodCat_NridgHt', 'HoodCat_OldTown', 'HoodCat_SWISU',\\\n",
    "            'HoodCat_Sawyer', 'HoodCat_SawyerW', 'HoodCat_Somerst',\\\n",
    "            'HoodCat_StoneBr', 'HoodCat_Timber', 'HoodCat_Veenker']]\n",
    "\n",
    "\n",
    "#df[['YearRemod','KitchenAbvGr','AbvGroundLiv','Style','RoofStyle', 'FullBath',\\\n",
    "            #'Lot', 'HalfBath', \\\n",
    "            #'BldgType_Cat', 'Style_Cat', 'RoofStyle_Cat', 'RoofMatl_cat']]\n",
    "\n",
    "yfull =df[['SalePrice']]\n",
    "\n",
    "lmf.fit(Xfull,yfull)"
   ]
  },
  {
   "cell_type": "code",
   "execution_count": null,
   "metadata": {
    "collapsed": false
   },
   "outputs": [],
   "source": [
    "lmf.coef_"
   ]
  },
  {
   "cell_type": "code",
   "execution_count": null,
   "metadata": {
    "collapsed": false
   },
   "outputs": [],
   "source": [
    "lmf.intercept_"
   ]
  },
  {
   "cell_type": "code",
   "execution_count": null,
   "metadata": {
    "collapsed": false
   },
   "outputs": [],
   "source": [
    "predictionsf = lmf.predict(Xfull)"
   ]
  },
  {
   "cell_type": "code",
   "execution_count": null,
   "metadata": {
    "collapsed": false
   },
   "outputs": [],
   "source": [
    "from sklearn.metrics import r2_score\n",
    "\n",
    "y_true = yfull\n",
    "y_pred = lmf.predict(Xfull)\n",
    "\n",
    "lr_r2 =  r2_score(y_true=y_true, y_pred=y_pred)"
   ]
  },
  {
   "cell_type": "code",
   "execution_count": null,
   "metadata": {
    "collapsed": false
   },
   "outputs": [],
   "source": [
    "lr_r2"
   ]
  },
  {
   "cell_type": "code",
   "execution_count": null,
   "metadata": {
    "collapsed": false
   },
   "outputs": [],
   "source": [
    "plt.scatter(predictionsf, yfull)\n",
    "\n",
    "plt.title('Actual vs Predicted')\n",
    "\n",
    "plt.xlabel('Predicted')\n",
    "\n",
    "plt.ylabel('Actual')\n",
    "\n",
    "plt.plot([0,600000], [0,600000])"
   ]
  },
  {
   "cell_type": "markdown",
   "metadata": {},
   "source": [
    "## PARTIAL MODEL"
   ]
  },
  {
   "cell_type": "code",
   "execution_count": null,
   "metadata": {
    "collapsed": false
   },
   "outputs": [],
   "source": [
    "sns.heatmap(df.corr())\n",
    "plt.show()"
   ]
  },
  {
   "cell_type": "code",
   "execution_count": null,
   "metadata": {
    "collapsed": false
   },
   "outputs": [],
   "source": [
    "lmP = LinearRegression(normalize = True)\n",
    "\n",
    "Xpart = df[['Quality','AbvGroundLiv','FullBath']]\n",
    "\n",
    "\n",
    "#df[['YearRemod','KitchenAbvGr','AbvGroundLiv','Style','RoofStyle', 'FullBath',\\\n",
    "            #'Lot', 'HalfBath', \\\n",
    "            #'BldgType_Cat', 'Style_Cat', 'RoofStyle_Cat', 'RoofMatl_cat']]\n",
    "\n",
    "ypart =df[['SalePrice']]\n",
    "\n",
    "lmP.fit(Xpart,ypart)"
   ]
  },
  {
   "cell_type": "code",
   "execution_count": null,
   "metadata": {
    "collapsed": false
   },
   "outputs": [],
   "source": [
    "lmP.coef_"
   ]
  },
  {
   "cell_type": "code",
   "execution_count": null,
   "metadata": {
    "collapsed": false
   },
   "outputs": [],
   "source": [
    "lmP.intercept_"
   ]
  },
  {
   "cell_type": "code",
   "execution_count": null,
   "metadata": {
    "collapsed": true
   },
   "outputs": [],
   "source": [
    "predictionsP = lmP.predict(Xpart)"
   ]
  },
  {
   "cell_type": "code",
   "execution_count": null,
   "metadata": {
    "collapsed": false
   },
   "outputs": [],
   "source": [
    "plt.scatter(predictionsP, ys)\n",
    "\n",
    "plt.title('Actual vs Predicted')\n",
    "\n",
    "plt.xlabel('Predicted')\n",
    "\n",
    "plt.ylabel('Actual')\n",
    "\n",
    "plt.plot([0,600000], [0,600000])"
   ]
  },
  {
   "cell_type": "code",
   "execution_count": null,
   "metadata": {
    "collapsed": false
   },
   "outputs": [],
   "source": [
    "y_trueP = ypart\n",
    "y_predP = lmP.predict(Xpart)\n",
    "\n",
    "lr_r2P =  r2_score(y_true=y_trueP, y_pred=y_predP)\n",
    "lr_r2P"
   ]
  },
  {
   "cell_type": "markdown",
   "metadata": {},
   "source": [
    "## PARTIAL MODEL"
   ]
  },
  {
   "cell_type": "code",
   "execution_count": null,
   "metadata": {
    "collapsed": false
   },
   "outputs": [],
   "source": [
    "lm = LinearRegression(normalize = True)\n",
    "\n",
    "Xs = df[['YearBuilt', 'YearRemod']]\n",
    "ys = df[['SalePrice']]\n",
    "\n",
    "lm.fit(Xs,ys)"
   ]
  },
  {
   "cell_type": "code",
   "execution_count": null,
   "metadata": {
    "collapsed": false
   },
   "outputs": [],
   "source": [
    "lm.coef_"
   ]
  },
  {
   "cell_type": "code",
   "execution_count": null,
   "metadata": {
    "collapsed": false
   },
   "outputs": [],
   "source": [
    "lm.intercept_"
   ]
  },
  {
   "cell_type": "code",
   "execution_count": null,
   "metadata": {
    "collapsed": false
   },
   "outputs": [],
   "source": [
    "predictions = lm.predict(Xs)"
   ]
  },
  {
   "cell_type": "code",
   "execution_count": null,
   "metadata": {
    "collapsed": false
   },
   "outputs": [],
   "source": [
    "plt.scatter(predictions, ys)\n",
    "\n",
    "plt.title('Actual vs Predicted')\n",
    "\n",
    "plt.xlabel('Predicted')\n",
    "\n",
    "plt.ylabel('Actual')\n",
    "\n",
    "plt.plot([0,600000], [0,600000])"
   ]
  },
  {
   "cell_type": "markdown",
   "metadata": {},
   "source": [
    "# FULL MODEL --TEST TRAIN SPLIT"
   ]
  },
  {
   "cell_type": "code",
   "execution_count": null,
   "metadata": {
    "collapsed": true
   },
   "outputs": [],
   "source": [
    "from sklearn.model_selection import train_test_split\n",
    "\n",
    "X_train, X_test, y_train, y_test = train_test_split(Xfull, yfull, random_state = 144)"
   ]
  },
  {
   "cell_type": "code",
   "execution_count": null,
   "metadata": {
    "collapsed": false
   },
   "outputs": [],
   "source": [
    "X_train.head(1)"
   ]
  },
  {
   "cell_type": "code",
   "execution_count": null,
   "metadata": {
    "collapsed": false
   },
   "outputs": [],
   "source": [
    "lmSplit = LinearRegression(normalize = True)\n",
    "\n",
    "lmSplit.fit(X_train, y_train)"
   ]
  },
  {
   "cell_type": "code",
   "execution_count": null,
   "metadata": {
    "collapsed": false
   },
   "outputs": [],
   "source": [
    "lmSplit.coef_"
   ]
  },
  {
   "cell_type": "code",
   "execution_count": null,
   "metadata": {
    "collapsed": false
   },
   "outputs": [],
   "source": [
    "lmSplit.intercept_"
   ]
  },
  {
   "cell_type": "code",
   "execution_count": null,
   "metadata": {
    "collapsed": false
   },
   "outputs": [],
   "source": [
    "y_trueSplit = y_train\n",
    "y_predSplitTrain = lmSplit.predict(X_train)\n",
    "\n",
    "lr_r2Split =  r2_score(y_true=y_trueSplit, y_pred=y_predSplitTrain)\n",
    "print \"R2 Train Set:\", lr_r2Split"
   ]
  },
  {
   "cell_type": "code",
   "execution_count": null,
   "metadata": {
    "collapsed": false
   },
   "outputs": [],
   "source": [
    "y_predSplitTest = lmSplit.predict(X_test)\n",
    "\n",
    "plt.scatter(y_test, y_predSplitTest)"
   ]
  },
  {
   "cell_type": "code",
   "execution_count": null,
   "metadata": {
    "collapsed": false
   },
   "outputs": [],
   "source": [
    "plt.scatter(y_predSplitTest, y_test)\n",
    "\n",
    "plt.title('Actual vs Predicted Test Set')\n",
    "\n",
    "plt.xlabel('Predicted')\n",
    "\n",
    "plt.ylabel('Actual')\n",
    "\n",
    "plt.plot([0,600000], [0,600000])"
   ]
  },
  {
   "cell_type": "code",
   "execution_count": null,
   "metadata": {
    "collapsed": false
   },
   "outputs": [],
   "source": [
    "y_trueSplitT = y_test\n",
    "y_predSplitT = lmSplit.predict(X_test)\n",
    "\n",
    "lr_r2Split =  r2_score(y_true=y_trueSplitT, y_pred=y_predSplitT)\n",
    "print \"R2 Test Set:\", lr_r2Split"
   ]
  },
  {
   "cell_type": "markdown",
   "metadata": {},
   "source": [
    "## THE TEST SET GIVES US A .88 R2.\n"
   ]
  },
  {
   "cell_type": "code",
   "execution_count": null,
   "metadata": {
    "collapsed": false
   },
   "outputs": [],
   "source": [
    "y_pred = lm.predict(X_test)\n",
    "\n",
    "plt.scatter(y_test, y_pred)"
   ]
  },
  {
   "cell_type": "markdown",
   "metadata": {},
   "source": [
    "## Cross Validation"
   ]
  },
  {
   "cell_type": "markdown",
   "metadata": {},
   "source": [
    "## Lasso gives us a lower R2 on the TRAIN but Higher R2 on the Test .8833!!!!!"
   ]
  },
  {
   "cell_type": "code",
   "execution_count": null,
   "metadata": {
    "collapsed": true
   },
   "outputs": [],
   "source": [
    "# we'll use LASSO, aka L1\n",
    "lasso = linear_model.Lasso(alpha=5)"
   ]
  },
  {
   "cell_type": "code",
   "execution_count": null,
   "metadata": {
    "collapsed": false
   },
   "outputs": [],
   "source": [
    "lasso_model = lasso.fit(X_train, y_train)"
   ]
  },
  {
   "cell_type": "code",
   "execution_count": null,
   "metadata": {
    "collapsed": false
   },
   "outputs": [],
   "source": [
    "y_true_lasso = y_train\n",
    "y_pred_lasso = lasso_model.predict(X_train)\n",
    "\n",
    "lasso_r2 =  r2_score(y_true=y_true_lasso, y_pred=y_pred_lasso)\n",
    "lasso_r2"
   ]
  },
  {
   "cell_type": "code",
   "execution_count": null,
   "metadata": {
    "collapsed": false
   },
   "outputs": [],
   "source": [
    "# Test on Test Set\n",
    "y_true_lasso_Test = y_test\n",
    "y_pred_lasso_Test = lasso_model.predict(X_test)\n",
    "\n",
    "lasso_r2 =  r2_score(y_true=y_true_lasso_Test, y_pred=y_pred_lasso_Test)\n",
    "lasso_r2"
   ]
  },
  {
   "cell_type": "code",
   "execution_count": null,
   "metadata": {
    "collapsed": false
   },
   "outputs": [],
   "source": [
    "lasso_tts = linear_model.Lasso(alpha=.07)\n",
    "tts_model = lasso_tts.fit(X_train, y_train)\n",
    "\n",
    "tts_lasso_r2 =  r2_score(y_true=y_test, y_pred=tts_model.predict(X_test))\n",
    "\n",
    "print 'original lasso r2:', lasso_r2\n",
    "print 'tts lasso r2:     ', tts_lasso_r2"
   ]
  },
  {
   "cell_type": "markdown",
   "metadata": {},
   "source": [
    "## RIDGE"
   ]
  },
  {
   "cell_type": "code",
   "execution_count": null,
   "metadata": {
    "collapsed": true
   },
   "outputs": [],
   "source": [
    "rcv = linear_model.RidgeCV(alphas=(.001, .001, .01, .1, .5, 1, 5, 10),store_cv_values=True,)"
   ]
  },
  {
   "cell_type": "code",
   "execution_count": null,
   "metadata": {
    "collapsed": false
   },
   "outputs": [],
   "source": [
    "#Fitting Model\n",
    "rcv_model = rcv.fit(X_train, y_train)"
   ]
  },
  {
   "cell_type": "code",
   "execution_count": null,
   "metadata": {
    "collapsed": false
   },
   "outputs": [],
   "source": [
    "rcv_r2 =  rcv_model.score(X_train, y_train)\n",
    "rcv_r2"
   ]
  },
  {
   "cell_type": "code",
   "execution_count": null,
   "metadata": {
    "collapsed": false
   },
   "outputs": [],
   "source": [
    "rcv_model.alpha_"
   ]
  },
  {
   "cell_type": "code",
   "execution_count": null,
   "metadata": {
    "collapsed": false
   },
   "outputs": [],
   "source": [
    "ridge_tts = linear_model.RidgeCV(alphas=(.001, .001, .01, .1, .5, 1, 5, 10),store_cv_values=True)\n",
    "tts_ridge = lasso_tts.fit(X_train, y_train)\n",
    "\n",
    "tts_ridge =  r2_score(y_true=y_test, y_pred=tts_model.predict(X_test))\n",
    "\n",
    "print 'original lasso r2:', lasso_r2\n",
    "print 'tts lasso r2:     ', tts_lasso_r2"
   ]
  },
  {
   "cell_type": "markdown",
   "metadata": {},
   "source": [
    "y_true_Ridge = y_test\n",
    "y_pred_Ridge = rcv_r2.predict(X_test)\n",
    "\n",
    "Ridge_Test_r2 =  r2_score(y_true=y_true_Ridge, y_pred=y_pred_Ridge)\n",
    "lasso_Test_r2"
   ]
  },
  {
   "cell_type": "markdown",
   "metadata": {},
   "source": [
    "##   Cross Validation"
   ]
  },
  {
   "cell_type": "code",
   "execution_count": null,
   "metadata": {
    "collapsed": false
   },
   "outputs": [],
   "source": [
    "from sklearn.model_selection import cross_val_score\n",
    "cross_val_score(lmSplit, X_train, y_train, n_jobs=1, cv=5)"
   ]
  },
  {
   "cell_type": "code",
   "execution_count": null,
   "metadata": {
    "collapsed": false
   },
   "outputs": [],
   "source": [
    "cross_val_score(lmSplit, X_train, y_train, n_jobs=1, cv=5).mean()"
   ]
  },
  {
   "cell_type": "code",
   "execution_count": null,
   "metadata": {
    "collapsed": false
   },
   "outputs": [],
   "source": [
    "cross_val_score(lasso, X_train, y_train, n_jobs=1, cv=5).mean()"
   ]
  },
  {
   "cell_type": "code",
   "execution_count": null,
   "metadata": {
    "collapsed": false
   },
   "outputs": [],
   "source": [
    "\n",
    "#MSE \n",
    "cross_val_score(lmSplit, X_train, y_train, n_jobs=1, cv=5,\n",
    "                scoring='neg_mean_squared_error').mean()"
   ]
  },
  {
   "cell_type": "code",
   "execution_count": null,
   "metadata": {
    "collapsed": false
   },
   "outputs": [],
   "source": [
    "#MSE Lasso\n",
    "cross_val_score(lasso, X_train, y_train, n_jobs=1, cv=5,\n",
    "                scoring='neg_mean_squared_error').mean()"
   ]
  },
  {
   "cell_type": "markdown",
   "metadata": {},
   "source": [
    "## BACKGROUND CODE"
   ]
  },
  {
   "cell_type": "code",
   "execution_count": null,
   "metadata": {
    "collapsed": false
   },
   "outputs": [],
   "source": [
    "from sklearn.model_selection import train_test_split\n",
    "\n",
    "X_train, X_test, y_train, y_test = train_test_split(Xfull, ys, random_state = 144)"
   ]
  },
  {
   "cell_type": "code",
   "execution_count": null,
   "metadata": {
    "collapsed": false
   },
   "outputs": [],
   "source": [
    "X_train.head()"
   ]
  },
  {
   "cell_type": "code",
   "execution_count": null,
   "metadata": {
    "collapsed": false
   },
   "outputs": [],
   "source": [
    "lm = LinearRegression(normalize = True)\n",
    "\n",
    "lm.fit(X_train, y_train)"
   ]
  },
  {
   "cell_type": "code",
   "execution_count": null,
   "metadata": {
    "collapsed": false
   },
   "outputs": [],
   "source": [
    "#Do a bar chart\n",
    "lm.coef_"
   ]
  },
  {
   "cell_type": "code",
   "execution_count": null,
   "metadata": {
    "collapsed": false
   },
   "outputs": [],
   "source": [
    "y_pred = lm.predict(X_test)\n",
    "\n",
    "plt.scatter(y_test, y_pred)"
   ]
  },
  {
   "cell_type": "code",
   "execution_count": null,
   "metadata": {
    "collapsed": true
   },
   "outputs": [],
   "source": []
  },
  {
   "cell_type": "code",
   "execution_count": null,
   "metadata": {
    "collapsed": true
   },
   "outputs": [],
   "source": [
    "from sklearn.cross_validation import train_test_split\n",
    "\n",
    "X_train, X_test, y_train, y_test = train_test_split(X, y, test_size=.33)"
   ]
  },
  {
   "cell_type": "code",
   "execution_count": null,
   "metadata": {
    "collapsed": false
   },
   "outputs": [],
   "source": [
    "# fit the model\n",
    "model = sm.OLS(y, X)\n",
    "results = model.fit()\n",
    "print(results.summary())"
   ]
  },
  {
   "cell_type": "code",
   "execution_count": null,
   "metadata": {
    "collapsed": false
   },
   "outputs": [],
   "source": [
    "22 % 3"
   ]
  },
  {
   "cell_type": "code",
   "execution_count": null,
   "metadata": {
    "collapsed": true
   },
   "outputs": [],
   "source": []
  }
 ],
 "metadata": {
  "anaconda-cloud": {},
  "kernelspec": {
   "display_name": "Python [default]",
   "language": "python",
   "name": "python2"
  },
  "language_info": {
   "codemirror_mode": {
    "name": "ipython",
    "version": 2
   },
   "file_extension": ".py",
   "mimetype": "text/x-python",
   "name": "python",
   "nbconvert_exporter": "python",
   "pygments_lexer": "ipython2",
   "version": "2.7.12"
  }
 },
 "nbformat": 4,
 "nbformat_minor": 1
}
