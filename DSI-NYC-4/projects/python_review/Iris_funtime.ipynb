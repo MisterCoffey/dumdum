{
 "cells": [
  {
   "cell_type": "markdown",
   "metadata": {},
   "source": [
    "# Iris FunTime with Python!"
   ]
  },
  {
   "cell_type": "markdown",
   "metadata": {},
   "source": [
    "### Let's check out the widely-used [iris dataset](https://en.wikipedia.org/wiki/Iris_flower_data_set).  We'll do some cleaning, troubleshooting, and analyzing.  "
   ]
  },
  {
   "cell_type": "markdown",
   "metadata": {},
   "source": [
    "First, let's import some usual suspects:"
   ]
  },
  {
   "cell_type": "code",
   "execution_count": null,
   "metadata": {
    "collapsed": true
   },
   "outputs": [],
   "source": [
    "import pandas as pd\n",
    "import numpy as np\n",
    "import matplotlib.pyplot as plt \n",
    "import seaborn as sns\n",
    "# from sklearn import linear_model, datasets  ## sklearn.datasets contains famous datasets\n",
    "from sklearn import datasets\n",
    "\n",
    "%matplotlib inline"
   ]
  },
  {
   "cell_type": "code",
   "execution_count": null,
   "metadata": {
    "collapsed": false
   },
   "outputs": [],
   "source": [
    "iris_dataset = datasets.load_iris() ## this loading feature is unique to sklearn.datasets\n",
    "type(iris_dataset)"
   ]
  },
  {
   "cell_type": "code",
   "execution_count": null,
   "metadata": {
    "collapsed": false
   },
   "outputs": [],
   "source": [
    "iris = iris_dataset.data ## the feature data\n",
    "iris_features = iris_dataset.feature_names ## feature (column) names\n",
    "iris_target = iris_dataset.target ## target data\n",
    "iris_target_names = iris_dataset.target_names\n",
    "\n",
    "print 'data: %s' %type(iris), '\\n', \\\n",
    "    'target: %s' %type(iris_features), '\\n', \\\n",
    "    'target_names: %s' %type(iris_target)"
   ]
  },
  {
   "cell_type": "markdown",
   "metadata": {},
   "source": [
    "Let's see what these species look like IRL while learning how to load an image from URL:"
   ]
  },
  {
   "cell_type": "code",
   "execution_count": null,
   "metadata": {
    "collapsed": true
   },
   "outputs": [],
   "source": [
    "from IPython.display import Image\n",
    "from IPython.core.display import HTML "
   ]
  },
  {
   "cell_type": "code",
   "execution_count": null,
   "metadata": {
    "collapsed": false
   },
   "outputs": [],
   "source": [
    "print 'Iris setosa:'\n",
    "Image(url = 'https://upload.wikimedia.org/wikipedia/commons/5/56/\\\n",
    "Kosaciec_szczecinkowaty_Iris_setosa.jpg', width=250)"
   ]
  },
  {
   "cell_type": "code",
   "execution_count": null,
   "metadata": {
    "collapsed": false
   },
   "outputs": [],
   "source": [
    "print 'Iris versicolor:'\n",
    "Image(url = 'https://upload.wikimedia.org/wikipedia/commons/4/41/Iris_versicolor_3.jpg', \\\n",
    "     width = 350)"
   ]
  },
  {
   "cell_type": "code",
   "execution_count": null,
   "metadata": {
    "collapsed": false
   },
   "outputs": [],
   "source": [
    "name = 'virginica'\n",
    "print 'Iris %s:' %name\n",
    "Image(url = 'https://upload.wikimedia.org/wikipedia/commons/9/9f/Iris_virginica.jpg', \\\n",
    "     width = 450)"
   ]
  },
  {
   "cell_type": "markdown",
   "metadata": {},
   "source": [
    "The image below is rendered in markdown (click on it to see the code):"
   ]
  },
  {
   "cell_type": "markdown",
   "metadata": {},
   "source": [
    "![](\"assets/Iris_virginica.png\" x100)"
   ]
  },
  {
   "cell_type": "markdown",
   "metadata": {},
   "source": [
    "Let's check out the dataset:"
   ]
  },
  {
   "cell_type": "code",
   "execution_count": null,
   "metadata": {
    "collapsed": false
   },
   "outputs": [],
   "source": [
    "iris[0:10]"
   ]
  },
  {
   "cell_type": "code",
   "execution_count": null,
   "metadata": {
    "collapsed": false
   },
   "outputs": [],
   "source": [
    "iris[4][0]"
   ]
  },
  {
   "cell_type": "code",
   "execution_count": null,
   "metadata": {
    "collapsed": false
   },
   "outputs": [],
   "source": [
    "iris[0][4]"
   ]
  },
  {
   "cell_type": "code",
   "execution_count": null,
   "metadata": {
    "collapsed": false
   },
   "outputs": [],
   "source": [
    "iris_features"
   ]
  },
  {
   "cell_type": "code",
   "execution_count": null,
   "metadata": {
    "collapsed": false
   },
   "outputs": [],
   "source": [
    "df = pd.DataFrame(iris)\n",
    "df.head()"
   ]
  },
  {
   "cell_type": "markdown",
   "metadata": {},
   "source": [
    "Let's try to add the designated target column to the dataframe:"
   ]
  },
  {
   "cell_type": "code",
   "execution_count": null,
   "metadata": {
    "collapsed": false
   },
   "outputs": [],
   "source": [
    "df['species'] = iris.target\n",
    "df.head()"
   ]
  },
  {
   "cell_type": "markdown",
   "metadata": {},
   "source": [
    "Oh oh, that doesn't work.  If you get an error like this, look where you tried to call the second part (the attribute) and fix that object; in our case, 'iris' was not the one we should've been using.  It should be 'iris_dataset' (two cells down)."
   ]
  },
  {
   "cell_type": "code",
   "execution_count": null,
   "metadata": {
    "collapsed": false
   },
   "outputs": [],
   "source": [
    "iris_target_names ## we created this earlier"
   ]
  },
  {
   "cell_type": "code",
   "execution_count": null,
   "metadata": {
    "collapsed": false
   },
   "outputs": [],
   "source": [
    "list(iris_target_names)"
   ]
  },
  {
   "cell_type": "code",
   "execution_count": null,
   "metadata": {
    "collapsed": false
   },
   "outputs": [],
   "source": [
    "df.columns = iris_features\n",
    "df['target'] = iris_dataset.target\n",
    "df['species'] = df['target'].apply(lambda x: iris_target_names[x]) #bc ^ names are ordered 0,1,2\n",
    "df.head(2)"
   ]
  },
  {
   "cell_type": "markdown",
   "metadata": {},
   "source": [
    "Those feature column names are a little long, let's edit!"
   ]
  },
  {
   "cell_type": "code",
   "execution_count": null,
   "metadata": {
    "collapsed": false
   },
   "outputs": [],
   "source": [
    "feature_dict = {\n",
    "    'sepal length (cm)' : 'sepal_L',\n",
    "    'sepal width (cm)' : 'sepal_W',\n",
    "    'petal length (cm)' : 'petal_L',\n",
    "    'petal width (cm)' : 'petal_W'\n",
    "}\n",
    "\n",
    "df = df.rename(columns = feature_dict)\n",
    "df.head(2)"
   ]
  },
  {
   "cell_type": "code",
   "execution_count": null,
   "metadata": {
    "collapsed": false
   },
   "outputs": [],
   "source": [
    "df.isnull().sum()"
   ]
  },
  {
   "cell_type": "code",
   "execution_count": null,
   "metadata": {
    "collapsed": false
   },
   "outputs": [],
   "source": [
    "df.dtypes"
   ]
  },
  {
   "cell_type": "markdown",
   "metadata": {},
   "source": [
    "Can the 'target' column have datatype integer?"
   ]
  },
  {
   "cell_type": "markdown",
   "metadata": {},
   "source": [
    "... Nope, because it's categorical!  But we're not going to use it anyway, so we won't bother changing it.  "
   ]
  },
  {
   "cell_type": "code",
   "execution_count": null,
   "metadata": {
    "collapsed": false
   },
   "outputs": [],
   "source": [
    "df['sepal_L'].describe()"
   ]
  },
  {
   "cell_type": "code",
   "execution_count": null,
   "metadata": {
    "collapsed": false
   },
   "outputs": [],
   "source": [
    "df['sepal_L'].hist()\n",
    "plt.show()"
   ]
  },
  {
   "cell_type": "markdown",
   "metadata": {},
   "source": [
    "Don't print out really long dataframes or method returns like this!  ..."
   ]
  },
  {
   "cell_type": "code",
   "execution_count": null,
   "metadata": {
    "collapsed": false
   },
   "outputs": [],
   "source": [
    "df['sepal_L'].value_counts()"
   ]
  },
  {
   "cell_type": "markdown",
   "metadata": {},
   "source": [
    "Let's reassign all sepal lengths of 5.0cm to 'B' just for fun:"
   ]
  },
  {
   "cell_type": "code",
   "execution_count": null,
   "metadata": {
    "collapsed": false
   },
   "outputs": [],
   "source": [
    "df.loc[df['sepal_L'] == 5.0,['sepal_L']] = 4500"
   ]
  },
  {
   "cell_type": "markdown",
   "metadata": {},
   "source": [
    "How many sepals length 4500 are there?\n",
    "\n",
    "Let's count them two different ways:"
   ]
  },
  {
   "cell_type": "code",
   "execution_count": null,
   "metadata": {
    "collapsed": false
   },
   "outputs": [],
   "source": [
    "df['sepal_L'].value_counts()[4500]"
   ]
  },
  {
   "cell_type": "code",
   "execution_count": null,
   "metadata": {
    "collapsed": false
   },
   "outputs": [],
   "source": [
    "len(df[df['sepal_L'] == 4500])"
   ]
  },
  {
   "cell_type": "code",
   "execution_count": null,
   "metadata": {
    "collapsed": false
   },
   "outputs": [],
   "source": [
    "df.loc[df['sepal_L'] == 4500, :].index"
   ]
  },
  {
   "cell_type": "code",
   "execution_count": null,
   "metadata": {
    "collapsed": false
   },
   "outputs": [],
   "source": [
    "df.loc[df['sepal_L'] == 4500, :][5:7]"
   ]
  },
  {
   "cell_type": "code",
   "execution_count": null,
   "metadata": {
    "collapsed": false
   },
   "outputs": [],
   "source": [
    "df.loc[df['sepal_L'] == 4500, ['sepal_W']][5:7]"
   ]
  },
  {
   "cell_type": "code",
   "execution_count": null,
   "metadata": {
    "collapsed": false
   },
   "outputs": [],
   "source": [
    "df.iloc[7:10, 2:]"
   ]
  },
  {
   "cell_type": "code",
   "execution_count": null,
   "metadata": {
    "collapsed": false
   },
   "outputs": [],
   "source": [
    "df[df['sepal_L'] == 4500]['sepal_L'] = 5.0"
   ]
  },
  {
   "cell_type": "code",
   "execution_count": null,
   "metadata": {
    "collapsed": false
   },
   "outputs": [],
   "source": [
    "df['petal_L'].hist(bins = 8, label = 'legends are awesome!', alpha = 0.6, color = 'thistle')\n",
    "df['petal_W'].hist(bins = 4, label = 'totally!  petal width', alpha = 0.6, color = 'lightblue')\n",
    "plt.title('Awesome Histo', fontsize = 18, y = 1.03)\n",
    "\n",
    "plt.xlim([0.0, 7])\n",
    "plt.xticks(range(0, 8, 1), fontsize = 12, rotation = -45) # Ticks go from 0 - 7 by jumps of 1\n",
    "plt.xlabel('x-axis woohoo', fontsize = 14)\n",
    "\n",
    "plt.ylim([0, 70])\n",
    "plt.yticks(np.arange(0, 80, 10), fontsize = 12)\n",
    "plt.ylabel('Count', fontsize = 14)\n",
    "plt.grid(which='major', axis = 'x', color = 'lime')\n",
    "plt.grid(which='major', axis = 'y', color = 'magenta', alpha = 0.5)\n",
    "\n",
    "plt.axvline(2.45, linewidth = 0.4)\n",
    "plt.axhline(35, linewidth = 1)\n",
    "\n",
    "plt.legend(loc = 'upper right', fontsize = 14)      #LEGENDS\n",
    "\n",
    "plt.show()"
   ]
  },
  {
   "cell_type": "code",
   "execution_count": null,
   "metadata": {
    "collapsed": false
   },
   "outputs": [],
   "source": [
    "df['species'].value_counts()"
   ]
  },
  {
   "cell_type": "code",
   "execution_count": null,
   "metadata": {
    "collapsed": false
   },
   "outputs": [],
   "source": [
    "data = [df['sepal_W'], df['petal_L'], df['petal_W']]\n",
    "\n",
    "fig, ax1 = plt.subplots(figsize=(12, 8))\n",
    "\n",
    "plt.boxplot(data, 0, 'gD')\n",
    "\n",
    "ax1.yaxis.grid(True, linestyle='-', which='major', color='lightgrey',\n",
    "               alpha=0.5)\n",
    "\n",
    "ax1.set_axisbelow(True)\n",
    "ax1.set_title('Iris Features', y =1.03, fontsize = 24)\n",
    "ax1.set_xlabel('Feature', fontsize = 18)\n",
    "ax1.set_ylabel('measurement (cm)', fontsize = 18)\n",
    "\n",
    "# Set the axes ranges and axes labels\n",
    "numBoxes = 3                              #Set boxes\n",
    "ax1.set_xlim(0.5, numBoxes + 0.5)         # + 0.5 sets space on sides\n",
    "ax1.set_ylim(0, 10)                       # Set \n",
    "xtickNames = plt.setp(ax1, xticklabels=['sepal width', 'petal length', 'petal width'])\n",
    "plt.setp(xtickNames, fontsize=14)\n",
    "\n",
    "plt.axhline(10, color = 'darkgreen')\n",
    "plt.axvline(1, color = 'darkgreen', linewidth = 1, alpha = 0.4)\n",
    "\n",
    "plt.show()"
   ]
  },
  {
   "cell_type": "code",
   "execution_count": null,
   "metadata": {
    "collapsed": false
   },
   "outputs": [],
   "source": [
    "df.head(2)"
   ]
  },
  {
   "cell_type": "code",
   "execution_count": null,
   "metadata": {
    "collapsed": false
   },
   "outputs": [],
   "source": [
    "df = df.drop('target', axis = 1)\n",
    "df.head(2)"
   ]
  },
  {
   "cell_type": "code",
   "execution_count": null,
   "metadata": {
    "collapsed": false
   },
   "outputs": [],
   "source": [
    "big_df = pd.concat([df.drop('species', axis = 1), pd.get_dummies(df['species'])], axis = 1)\n",
    "big_df.head(2)"
   ]
  },
  {
   "cell_type": "markdown",
   "metadata": {},
   "source": [
    "Read more about try/except [here](https://docs.python.org/3/tutorial/errors.html)."
   ]
  },
  {
   "cell_type": "code",
   "execution_count": null,
   "metadata": {
    "collapsed": true
   },
   "outputs": [],
   "source": [
    "try:\n",
    "    del big_df['setosa']\n",
    "except:\n",
    "    pass"
   ]
  },
  {
   "cell_type": "markdown",
   "metadata": {},
   "source": [
    "This is one of the scalers you can use; NB they're also built-in to some of the regression functions:"
   ]
  },
  {
   "cell_type": "code",
   "execution_count": null,
   "metadata": {
    "collapsed": false
   },
   "outputs": [],
   "source": [
    "sns.pairplot(big_df.iloc[:,0:4])\n",
    "plt.show()"
   ]
  },
  {
   "cell_type": "markdown",
   "metadata": {},
   "source": [
    "Colormap reference [here](http://matplotlib.org/examples/color/colormaps_reference.html) (scroll down, too!)."
   ]
  },
  {
   "cell_type": "code",
   "execution_count": null,
   "metadata": {
    "collapsed": false
   },
   "outputs": [],
   "source": [
    "sns.heatmap(df.iloc[:,0:3].corr())\n",
    "plt.show()"
   ]
  },
  {
   "cell_type": "code",
   "execution_count": null,
   "metadata": {
    "collapsed": false
   },
   "outputs": [],
   "source": [
    "#Change colors on the correlation matrix\n",
    "\n",
    "sns.heatmap(df.iloc[:,0:3].corr(), cmap= 'jet')\n",
    "plt.show()"
   ]
  },
  {
   "cell_type": "markdown",
   "metadata": {},
   "source": [
    "Set up a color mapping!"
   ]
  },
  {
   "cell_type": "code",
   "execution_count": null,
   "metadata": {
    "collapsed": false
   },
   "outputs": [],
   "source": [
    "species_dict = {\n",
    "    'setosa' : 'red',\n",
    "    'virginica' : 'blue',\n",
    "    'versicolor' : 'goldenrod'\n",
    "}\n",
    "\n",
    "colors = df['species'].apply(lambda x: species_dict[x])"
   ]
  },
  {
   "cell_type": "code",
   "execution_count": null,
   "metadata": {
    "collapsed": true
   },
   "outputs": [],
   "source": [
    "df.loc[df['sepal_L'] == 4500,['sepal_L']] = 5.0"
   ]
  },
  {
   "cell_type": "code",
   "execution_count": null,
   "metadata": {
    "collapsed": false
   },
   "outputs": [],
   "source": [
    "plt.figure(figsize=(12,8))\n",
    "\n",
    "for name in iris_target_names:\n",
    "    plt.scatter(df[df['species'] == name]['sepal_L'], df[df['species'] == name]['petal_L'], \\\n",
    "                color = species_dict[name], alpha = 0.6, s = 40, label = name)\n",
    "\n",
    "plt.title('Iris Set: Petal Length vs. Sepal Length', fontsize = 24, y = 1.03)\n",
    "\n",
    "# y \n",
    "# plt.ylabel('Actual Length (cm)', fontsize = 18)\n",
    "# plt.yticks(np.arange(4.0, 9.0, 0.5), fontsize = 12)\n",
    "# plt.xlim([4, 8.5])\n",
    "\n",
    "# # x \n",
    "# plt.xlabel('Predicted Length (cm)', fontsize = 18)\n",
    "# plt.xticks(np.arange(4.0, 9.0, 0.5), fontsize = 12)\n",
    "# plt.ylim([4, 8.5])\n",
    "\n",
    "# plt.plot([4, 8.5], [4, 8.5], '--', linewidth = 1, color = 'darkgreen', alpha = 0.6)\n",
    "\n",
    "plt.legend(loc = 'center right', fontsize = 12)\n",
    "\n",
    "plt.grid(True)\n",
    "\n",
    "plt.show()"
   ]
  },
  {
   "cell_type": "markdown",
   "metadata": {},
   "source": [
    "If you want to try jittering the points, there are helpful tips [here](http://stackoverflow.com/questions/8671808/matplotlib-avoiding-overlapping-datapoints-in-a-scatter-dot-beeswarm-plot)."
   ]
  },
  {
   "cell_type": "code",
   "execution_count": null,
   "metadata": {
    "collapsed": false
   },
   "outputs": [],
   "source": [
    "plt.figure(figsize=(12,8))\n",
    "\n",
    "plt.scatter(df[df['species'] == 'setosa']['sepal_L'], df[df['species'] == 'setosa']['petal_L'], \\\n",
    "                color = species_dict['setosa'], alpha = 0.6, s = 40, label = 'setosa')\n",
    "\n",
    "plt.scatter(df[df['species'] == 'virginica']['sepal_L'], df[df['species'] == 'virginica']['petal_L'], \\\n",
    "                color = species_dict['virginica'], alpha = 0.6, s = 40, label = 'virginica')\n",
    "plt.scatter(df[df['species'] == 'versicolor']['sepal_L'], df[df['species'] == 'versicolor']['petal_L'], \\\n",
    "                color = species_dict['versicolor'], alpha = 0.6, s = 40, label = name)\n"
   ]
  },
  {
   "cell_type": "markdown",
   "metadata": {},
   "source": [
    "# Markdown crash course below!  Click on the cell to see relevant code.  Find more [here](https://github.com/adam-p/markdown-here/wiki/Markdown-Cheatsheet)."
   ]
  },
  {
   "cell_type": "markdown",
   "metadata": {},
   "source": [
    "_hey look, i'm in italics_ \n",
    "\n",
    "**and i'm in bold!**\n",
    "\n",
    "~~i'm not here~~\n",
    "\n",
    "# All different sizes\n",
    "## All different sizes\n",
    "### All different sizes\n",
    "#### All different sizes\n",
    "##i forgot to put a space after the pound symbols, i'm not what you want\n",
    "\n",
    "![i have a bad file path, notice where this text appears](/assets/nonexistentpicture!.png)\n",
    "\n",
    "\n",
    "i'm from file!\n",
    "![i'm a .png loaded from file](assets/admiral-grace-murray-hopper.png)\n",
    "\n",
    "\n",
    "i'm from a website!\n",
    "![i'm a .png hosted elsewhere](http://africanrubiz.org/wp-content/uploads/2014/10/grace-hopper-4.jpg)"
   ]
  },
  {
   "cell_type": "code",
   "execution_count": null,
   "metadata": {
    "collapsed": true
   },
   "outputs": [],
   "source": []
  }
 ],
 "metadata": {
  "anaconda-cloud": {},
  "kernelspec": {
   "display_name": "Python [default]",
   "language": "python",
   "name": "python2"
  },
  "language_info": {
   "codemirror_mode": {
    "name": "ipython",
    "version": 2
   },
   "file_extension": ".py",
   "mimetype": "text/x-python",
   "name": "python",
   "nbconvert_exporter": "python",
   "pygments_lexer": "ipython2",
   "version": "2.7.12"
  }
 },
 "nbformat": 4,
 "nbformat_minor": 0
}
